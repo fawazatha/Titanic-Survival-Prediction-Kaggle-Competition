{
 "cells": [
  {
   "cell_type": "code",
   "execution_count": 87,
   "id": "2c62450d",
   "metadata": {},
   "outputs": [],
   "source": [
    "import pandas as pd\n",
    "import seaborn as sns\n",
    "import matplotlib.pyplot as plt\n",
    "import numpy as np\n",
    "import optuna\n",
    "\n",
    "import warnings\n",
    "warnings.filterwarnings('ignore')\n",
    "\n",
    "from sklearn.model_selection import StratifiedKFold\n",
    "from xgboost import XGBClassifier\n",
    "from lightgbm import LGBMClassifier\n",
    "from sklearn.tree import DecisionTreeClassifier\n",
    "from sklearn.ensemble import RandomForestClassifier\n",
    "from sklearn.linear_model import LogisticRegression\n",
    "from sklearn.metrics import accuracy_score\n",
    "from sklearn.ensemble import GradientBoostingClassifier\n",
    "from sklearn.model_selection import cross_val_score\n",
    "from sklearn.svm import SVC\n",
    "from sklearn.naive_bayes import GaussianNB\n",
    "from sklearn.neural_network import MLPClassifier\n",
    "from sklearn.model_selection import cross_validate, learning_curve"
   ]
  },
  {
   "cell_type": "code",
   "execution_count": 2,
   "id": "98cb1c2b",
   "metadata": {},
   "outputs": [],
   "source": [
    "train = pd.read_csv(\"train.csv\")\n",
    "test = pd.read_csv(\"test.csv\")"
   ]
  },
  {
   "cell_type": "code",
   "execution_count": 3,
   "id": "77bda5cb",
   "metadata": {},
   "outputs": [],
   "source": [
    "train_id = train[\"PassengerId\"]\n",
    "test_id = test[\"PassengerId\"]\n",
    "\n",
    "combined = pd.concat([train, test]).reset_index(drop=True)"
   ]
  },
  {
   "cell_type": "markdown",
   "id": "48b7aa5c",
   "metadata": {},
   "source": [
    "# EDA"
   ]
  },
  {
   "cell_type": "markdown",
   "id": "bf5a3256",
   "metadata": {},
   "source": [
    "### Data Imbalance Check"
   ]
  },
  {
   "cell_type": "code",
   "execution_count": 4,
   "id": "2ddb8226",
   "metadata": {},
   "outputs": [
    {
     "data": {
      "text/html": [
       "<div>\n",
       "<style scoped>\n",
       "    .dataframe tbody tr th:only-of-type {\n",
       "        vertical-align: middle;\n",
       "    }\n",
       "\n",
       "    .dataframe tbody tr th {\n",
       "        vertical-align: top;\n",
       "    }\n",
       "\n",
       "    .dataframe thead th {\n",
       "        text-align: right;\n",
       "    }\n",
       "</style>\n",
       "<table border=\"1\" class=\"dataframe\">\n",
       "  <thead>\n",
       "    <tr style=\"text-align: right;\">\n",
       "      <th></th>\n",
       "      <th>PassengerId</th>\n",
       "      <th>Survived</th>\n",
       "      <th>Pclass</th>\n",
       "      <th>Name</th>\n",
       "      <th>Sex</th>\n",
       "      <th>Age</th>\n",
       "      <th>SibSp</th>\n",
       "      <th>Parch</th>\n",
       "      <th>Ticket</th>\n",
       "      <th>Fare</th>\n",
       "      <th>Cabin</th>\n",
       "      <th>Embarked</th>\n",
       "    </tr>\n",
       "  </thead>\n",
       "  <tbody>\n",
       "    <tr>\n",
       "      <th>0</th>\n",
       "      <td>1</td>\n",
       "      <td>0</td>\n",
       "      <td>3</td>\n",
       "      <td>Braund, Mr. Owen Harris</td>\n",
       "      <td>male</td>\n",
       "      <td>22.0</td>\n",
       "      <td>1</td>\n",
       "      <td>0</td>\n",
       "      <td>A/5 21171</td>\n",
       "      <td>7.2500</td>\n",
       "      <td>NaN</td>\n",
       "      <td>S</td>\n",
       "    </tr>\n",
       "    <tr>\n",
       "      <th>1</th>\n",
       "      <td>2</td>\n",
       "      <td>1</td>\n",
       "      <td>1</td>\n",
       "      <td>Cumings, Mrs. John Bradley (Florence Briggs Th...</td>\n",
       "      <td>female</td>\n",
       "      <td>38.0</td>\n",
       "      <td>1</td>\n",
       "      <td>0</td>\n",
       "      <td>PC 17599</td>\n",
       "      <td>71.2833</td>\n",
       "      <td>C85</td>\n",
       "      <td>C</td>\n",
       "    </tr>\n",
       "    <tr>\n",
       "      <th>2</th>\n",
       "      <td>3</td>\n",
       "      <td>1</td>\n",
       "      <td>3</td>\n",
       "      <td>Heikkinen, Miss. Laina</td>\n",
       "      <td>female</td>\n",
       "      <td>26.0</td>\n",
       "      <td>0</td>\n",
       "      <td>0</td>\n",
       "      <td>STON/O2. 3101282</td>\n",
       "      <td>7.9250</td>\n",
       "      <td>NaN</td>\n",
       "      <td>S</td>\n",
       "    </tr>\n",
       "    <tr>\n",
       "      <th>3</th>\n",
       "      <td>4</td>\n",
       "      <td>1</td>\n",
       "      <td>1</td>\n",
       "      <td>Futrelle, Mrs. Jacques Heath (Lily May Peel)</td>\n",
       "      <td>female</td>\n",
       "      <td>35.0</td>\n",
       "      <td>1</td>\n",
       "      <td>0</td>\n",
       "      <td>113803</td>\n",
       "      <td>53.1000</td>\n",
       "      <td>C123</td>\n",
       "      <td>S</td>\n",
       "    </tr>\n",
       "    <tr>\n",
       "      <th>4</th>\n",
       "      <td>5</td>\n",
       "      <td>0</td>\n",
       "      <td>3</td>\n",
       "      <td>Allen, Mr. William Henry</td>\n",
       "      <td>male</td>\n",
       "      <td>35.0</td>\n",
       "      <td>0</td>\n",
       "      <td>0</td>\n",
       "      <td>373450</td>\n",
       "      <td>8.0500</td>\n",
       "      <td>NaN</td>\n",
       "      <td>S</td>\n",
       "    </tr>\n",
       "  </tbody>\n",
       "</table>\n",
       "</div>"
      ],
      "text/plain": [
       "   PassengerId  Survived  Pclass  \\\n",
       "0            1         0       3   \n",
       "1            2         1       1   \n",
       "2            3         1       3   \n",
       "3            4         1       1   \n",
       "4            5         0       3   \n",
       "\n",
       "                                                Name     Sex   Age  SibSp  \\\n",
       "0                            Braund, Mr. Owen Harris    male  22.0      1   \n",
       "1  Cumings, Mrs. John Bradley (Florence Briggs Th...  female  38.0      1   \n",
       "2                             Heikkinen, Miss. Laina  female  26.0      0   \n",
       "3       Futrelle, Mrs. Jacques Heath (Lily May Peel)  female  35.0      1   \n",
       "4                           Allen, Mr. William Henry    male  35.0      0   \n",
       "\n",
       "   Parch            Ticket     Fare Cabin Embarked  \n",
       "0      0         A/5 21171   7.2500   NaN        S  \n",
       "1      0          PC 17599  71.2833   C85        C  \n",
       "2      0  STON/O2. 3101282   7.9250   NaN        S  \n",
       "3      0            113803  53.1000  C123        S  \n",
       "4      0            373450   8.0500   NaN        S  "
      ]
     },
     "execution_count": 4,
     "metadata": {},
     "output_type": "execute_result"
    }
   ],
   "source": [
    "train.head()"
   ]
  },
  {
   "cell_type": "code",
   "execution_count": 5,
   "id": "880c2208",
   "metadata": {},
   "outputs": [
    {
     "data": {
      "image/png": "[encoded data removed]",
      "text/plain": [
       "<Figure size 576x432 with 1 Axes>"
      ]
     },
     "metadata": {
      "needs_background": "light"
     },
     "output_type": "display_data"
    }
   ],
   "source": [
    "survived_counts = train[\"Survived\"].value_counts(normalize=True)\n",
    "\n",
    "\n",
    "plt.figure(figsize=(8, 6))\n",
    "ax = sns.barplot(x=survived_counts.index, y=survived_counts.values)\n",
    "\n",
    "\n",
    "sns.barplot(x=survived_counts.index, y=survived_counts.values, ax=ax, palette=\"deep\")\n",
    "ax.bar_label(ax.containers[0], label_type='edge', fontsize=10, padding=3, fmt='%.2f')\n",
    "\n",
    "plt.title(\"Survival Rate\")\n",
    "plt.xlabel(\"Survived\")\n",
    "plt.ylabel(\"Normalized Count\")\n",
    "plt.xticks(ticks=[0, 1], labels=[\"Not Survived\", \"Survived\"])  \n",
    "plt.show()\n"
   ]
  },
  {
   "cell_type": "markdown",
   "id": "466ca447",
   "metadata": {},
   "source": [
    "### Sex Feature"
   ]
  },
  {
   "cell_type": "code",
   "execution_count": 6,
   "id": "4ceb71b1",
   "metadata": {},
   "outputs": [
    {
     "data": {
      "image/png": "[encoded data removed]",
      "text/plain": [
       "<Figure size 576x432 with 1 Axes>"
      ]
     },
     "metadata": {
      "needs_background": "light"
     },
     "output_type": "display_data"
    }
   ],
   "source": [
    "count = train[\"Sex\"].value_counts()\n",
    "\n",
    "plt.figure(figsize=(8, 6))\n",
    "ax = sns.barplot(data=train, x=count.index, y=count.values, palette=\"deep\")\n",
    "ax.bar_label(ax.containers[0], label_type='edge', fontsize=10, padding=3)\n",
    "\n",
    "plt.show()"
   ]
  },
  {
   "cell_type": "code",
   "execution_count": 7,
   "id": "a3ebf69b",
   "metadata": {},
   "outputs": [
    {
     "data": {
      "text/plain": [
       "Sex     Survived\n",
       "female  1           0.742038\n",
       "        0           0.257962\n",
       "male    0           0.811092\n",
       "        1           0.188908\n",
       "dtype: float64"
      ]
     },
     "execution_count": 7,
     "metadata": {},
     "output_type": "execute_result"
    }
   ],
   "source": [
    "sex = train.groupby([\"Sex\"])[[\"Survived\"]].value_counts(normalize=True)\n",
    "sex"
   ]
  },
  {
   "cell_type": "code",
   "execution_count": 8,
   "id": "0883c3bd",
   "metadata": {},
   "outputs": [
    {
     "data": {
      "image/png": "[encoded data removed]",
      "text/plain": [
       "<Figure size 576x432 with 1 Axes>"
      ]
     },
     "metadata": {
      "needs_background": "light"
     },
     "output_type": "display_data"
    }
   ],
   "source": [
    "sex_survived = train.groupby([\"Sex\"])[[\"Survived\"]].mean().reset_index()\n",
    "plt.figure(figsize=(8, 6))\n",
    "ax = sns.barplot(data=sex_survived, x=\"Sex\", y=\"Survived\", palette=\"deep\")\n",
    "ax.bar_label(ax.containers[0], label_type='edge', fontsize=10, padding=3,fmt='%.4f')\n",
    "plt.show()"
   ]
  },
  {
   "cell_type": "markdown",
   "id": "949f8a1f",
   "metadata": {},
   "source": [
    "The number of males is much higher than the females, but it turns out that the rate of females being survived is much higher than males. The females have a much higher survival rate (74%) than males (19%), around a 25.46% difference."
   ]
  },
  {
   "cell_type": "markdown",
   "id": "6ef6cecd",
   "metadata": {},
   "source": [
    "### Pclass Feature"
   ]
  },
  {
   "cell_type": "code",
   "execution_count": 9,
   "id": "6f46b3d8",
   "metadata": {},
   "outputs": [
    {
     "data": {
      "text/plain": [
       "Pclass  Survived\n",
       "1       1           136\n",
       "        0            80\n",
       "2       0            97\n",
       "        1            87\n",
       "3       0           372\n",
       "        1           119\n",
       "dtype: int64"
      ]
     },
     "execution_count": 9,
     "metadata": {},
     "output_type": "execute_result"
    }
   ],
   "source": [
    "train.groupby([\"Pclass\"])[[\"Survived\"]].value_counts()"
   ]
  },
  {
   "cell_type": "code",
   "execution_count": 10,
   "id": "6537adbd",
   "metadata": {},
   "outputs": [
    {
     "data": {
      "text/plain": [
       "Pclass  Survived\n",
       "1       1           0.629630\n",
       "        0           0.370370\n",
       "2       0           0.527174\n",
       "        1           0.472826\n",
       "3       0           0.757637\n",
       "        1           0.242363\n",
       "dtype: float64"
      ]
     },
     "execution_count": 10,
     "metadata": {},
     "output_type": "execute_result"
    }
   ],
   "source": [
    "train.groupby([\"Pclass\"])[[\"Survived\"]].value_counts(normalize=True)"
   ]
  },
  {
   "cell_type": "code",
   "execution_count": 11,
   "id": "99925109",
   "metadata": {},
   "outputs": [
    {
     "data": {
      "text/plain": [
       "3    491\n",
       "1    216\n",
       "2    184\n",
       "Name: Pclass, dtype: int64"
      ]
     },
     "execution_count": 11,
     "metadata": {},
     "output_type": "execute_result"
    }
   ],
   "source": [
    "train[\"Pclass\"].value_counts()"
   ]
  },
  {
   "cell_type": "code",
   "execution_count": 12,
   "id": "724799fa",
   "metadata": {},
   "outputs": [
    {
     "data": {
      "image/png": "[encoded data removed]",
      "text/plain": [
       "<Figure size 576x432 with 1 Axes>"
      ]
     },
     "metadata": {
      "needs_background": "light"
     },
     "output_type": "display_data"
    }
   ],
   "source": [
    "plt.figure(figsize=(8, 6))\n",
    "ax = sns.barplot(data=train, x=\"Sex\", y=\"Survived\", hue=\"Pclass\", palette=\"deep\")\n",
    "ax.set_yticklabels(['{:.0%}'.format(y) for y in ax.get_yticks()])\n",
    "plt.show()"
   ]
  },
  {
   "cell_type": "markdown",
   "id": "da5d84fd",
   "metadata": {},
   "source": [
    "Based on the analysis of passenger classes (pcclas), it can be observed that the survival rate differs significantly among the different classes. Specifically, passengers in pcclas 1 had a notably higher survival rate compared to those in pcclas 3, despite pcclas 3 having a considerably larger number of passengers than pcclas 1.\n",
    "For ratio survived pclass 1 is around 63% and pclass 2 is around 48% "
   ]
  },
  {
   "cell_type": "markdown",
   "id": "a8acfefe",
   "metadata": {},
   "source": [
    "### Age Feature"
   ]
  },
  {
   "cell_type": "code",
   "execution_count": 13,
   "id": "0caa99a4",
   "metadata": {},
   "outputs": [
    {
     "data": {
      "text/plain": [
       "24.00    30\n",
       "22.00    27\n",
       "18.00    26\n",
       "19.00    25\n",
       "28.00    25\n",
       "         ..\n",
       "36.50     1\n",
       "55.50     1\n",
       "0.92      1\n",
       "23.50     1\n",
       "74.00     1\n",
       "Name: Age, Length: 88, dtype: int64"
      ]
     },
     "execution_count": 13,
     "metadata": {},
     "output_type": "execute_result"
    }
   ],
   "source": [
    "train[\"Age\"].value_counts()"
   ]
  },
  {
   "cell_type": "code",
   "execution_count": 14,
   "id": "2f431586",
   "metadata": {},
   "outputs": [
    {
     "data": {
      "image/png": "[encoded data removed]",
      "text/plain": [
       "<Figure size 432x288 with 1 Axes>"
      ]
     },
     "metadata": {
      "needs_background": "light"
     },
     "output_type": "display_data"
    }
   ],
   "source": [
    "sns.histplot(train[\"Age\"])\n",
    "plt.show()"
   ]
  },
  {
   "cell_type": "code",
   "execution_count": 15,
   "id": "96024abe",
   "metadata": {},
   "outputs": [
    {
     "data": {
      "text/html": [
       "<div>\n",
       "<style scoped>\n",
       "    .dataframe tbody tr th:only-of-type {\n",
       "        vertical-align: middle;\n",
       "    }\n",
       "\n",
       "    .dataframe tbody tr th {\n",
       "        vertical-align: top;\n",
       "    }\n",
       "\n",
       "    .dataframe thead th {\n",
       "        text-align: right;\n",
       "    }\n",
       "</style>\n",
       "<table border=\"1\" class=\"dataframe\">\n",
       "  <thead>\n",
       "    <tr style=\"text-align: right;\">\n",
       "      <th></th>\n",
       "      <th>Age</th>\n",
       "      <th>Survived</th>\n",
       "    </tr>\n",
       "  </thead>\n",
       "  <tbody>\n",
       "    <tr>\n",
       "      <th>0</th>\n",
       "      <td>0.42</td>\n",
       "      <td>1.0</td>\n",
       "    </tr>\n",
       "    <tr>\n",
       "      <th>1</th>\n",
       "      <td>0.67</td>\n",
       "      <td>1.0</td>\n",
       "    </tr>\n",
       "    <tr>\n",
       "      <th>2</th>\n",
       "      <td>0.75</td>\n",
       "      <td>1.0</td>\n",
       "    </tr>\n",
       "    <tr>\n",
       "      <th>3</th>\n",
       "      <td>0.83</td>\n",
       "      <td>1.0</td>\n",
       "    </tr>\n",
       "    <tr>\n",
       "      <th>4</th>\n",
       "      <td>0.92</td>\n",
       "      <td>1.0</td>\n",
       "    </tr>\n",
       "    <tr>\n",
       "      <th>...</th>\n",
       "      <td>...</td>\n",
       "      <td>...</td>\n",
       "    </tr>\n",
       "    <tr>\n",
       "      <th>83</th>\n",
       "      <td>70.00</td>\n",
       "      <td>0.0</td>\n",
       "    </tr>\n",
       "    <tr>\n",
       "      <th>84</th>\n",
       "      <td>70.50</td>\n",
       "      <td>0.0</td>\n",
       "    </tr>\n",
       "    <tr>\n",
       "      <th>85</th>\n",
       "      <td>71.00</td>\n",
       "      <td>0.0</td>\n",
       "    </tr>\n",
       "    <tr>\n",
       "      <th>86</th>\n",
       "      <td>74.00</td>\n",
       "      <td>0.0</td>\n",
       "    </tr>\n",
       "    <tr>\n",
       "      <th>87</th>\n",
       "      <td>80.00</td>\n",
       "      <td>1.0</td>\n",
       "    </tr>\n",
       "  </tbody>\n",
       "</table>\n",
       "<p>88 rows × 2 columns</p>\n",
       "</div>"
      ],
      "text/plain": [
       "      Age  Survived\n",
       "0    0.42       1.0\n",
       "1    0.67       1.0\n",
       "2    0.75       1.0\n",
       "3    0.83       1.0\n",
       "4    0.92       1.0\n",
       "..    ...       ...\n",
       "83  70.00       0.0\n",
       "84  70.50       0.0\n",
       "85  71.00       0.0\n",
       "86  74.00       0.0\n",
       "87  80.00       1.0\n",
       "\n",
       "[88 rows x 2 columns]"
      ]
     },
     "execution_count": 15,
     "metadata": {},
     "output_type": "execute_result"
    }
   ],
   "source": [
    "train.groupby([\"Age\"])[[\"Survived\"]].mean().reset_index()"
   ]
  },
  {
   "cell_type": "code",
   "execution_count": 16,
   "id": "7d0db618",
   "metadata": {},
   "outputs": [],
   "source": [
    "train_age = train.copy()\n",
    "train_age.dropna(inplace=True)  \n",
    "\n",
    "bins = [0, 5, 12, 18, 24, 35, 60, np.inf]\n",
    "labels = ['Baby', 'Child', 'Teenager', 'Student', 'Young Adult', 'Adult', 'Senior']\n",
    "\n",
    "train_age[\"Age\"] = pd.cut(train_age[\"Age\"], bins, labels=labels)"
   ]
  },
  {
   "cell_type": "code",
   "execution_count": 17,
   "id": "9472549c",
   "metadata": {},
   "outputs": [
    {
     "data": {
      "image/png": "[encoded data removed]",
      "text/plain": [
       "<Figure size 576x432 with 1 Axes>"
      ]
     },
     "metadata": {
      "needs_background": "light"
     },
     "output_type": "display_data"
    }
   ],
   "source": [
    "plt.figure(figsize=(8, 6))\n",
    "sns.barplot(data=train_age, x=\"Age\", y=\"Survived\")\n",
    "plt.show()"
   ]
  },
  {
   "cell_type": "code",
   "execution_count": 18,
   "id": "32408ccc",
   "metadata": {},
   "outputs": [
    {
     "data": {
      "image/png": "[encoded data removed]",
      "text/plain": [
       "<Figure size 1440x648 with 1 Axes>"
      ]
     },
     "metadata": {
      "needs_background": "light"
     },
     "output_type": "display_data"
    }
   ],
   "source": [
    "combined1 = combined.copy()\n",
    "combined1['Age'] = pd.qcut(combined1['Age'], 10)\n",
    "fig, axs = plt.subplots(figsize=(20, 9))\n",
    "sns.countplot(x='Age', hue='Survived', data=combined1)\n",
    "\n",
    "plt.legend(['Not Survived', 'Survived'])\n",
    "plt.show()"
   ]
  },
  {
   "cell_type": "code",
   "execution_count": 19,
   "id": "b99c601e",
   "metadata": {},
   "outputs": [
    {
     "data": {
      "image/png": "[encoded data removed]",
      "text/plain": [
       "<Figure size 720x504 with 1 Axes>"
      ]
     },
     "metadata": {
      "needs_background": "light"
     },
     "output_type": "display_data"
    }
   ],
   "source": [
    "plt.figure(figsize=(10, 7))\n",
    "sns.violinplot(data=train, x=\"Pclass\", y=\"Age\", hue=\"Survived\", palette=\"pastel\", split=True)\n",
    "plt.title(\"Age Distribution by Pclass and Survived\")\n",
    "plt.xlabel(\"Pclass\")\n",
    "plt.ylabel(\"Age\")\n",
    "plt.show()"
   ]
  },
  {
   "cell_type": "markdown",
   "id": "b5bc176b",
   "metadata": {},
   "source": [
    "From the analysis above we can see some insights:\n",
    "\n",
    "    • The age distribution is quite right skewed, with most passengers in their early to mid 20s. There are very few elderly      passengers\n",
    "    • Children have a higher survival rate than adults. The survival rate decreases as age increases.\n",
    "    • First bin with 10 quantiles has the higher survival rate, and 4th bin has the lowest survival rate.\n",
    "    • Passengers in Pclass 1 tend to be older than Pclass 2 and 3. Pclass 1 passengers also have higher survival rates across most age groups than Pclass 2 and 3.\n",
    "\n"
   ]
  },
  {
   "cell_type": "markdown",
   "id": "e5bd2754",
   "metadata": {},
   "source": [
    "## Fare"
   ]
  },
  {
   "cell_type": "code",
   "execution_count": 20,
   "id": "5451741b",
   "metadata": {},
   "outputs": [
    {
     "data": {
      "image/png": "[encoded data removed]",
      "text/plain": [
       "<Figure size 720x504 with 1 Axes>"
      ]
     },
     "metadata": {
      "needs_background": "light"
     },
     "output_type": "display_data"
    }
   ],
   "source": [
    "plt.figure(figsize=(10, 7))\n",
    "sns.histplot(train[\"Fare\"], bins=50)\n",
    "plt.show()"
   ]
  },
  {
   "cell_type": "code",
   "execution_count": 21,
   "id": "e313b834",
   "metadata": {},
   "outputs": [
    {
     "data": {
      "image/png": "[encoded data removed]",
      "text/plain": [
       "<Figure size 1440x648 with 1 Axes>"
      ]
     },
     "metadata": {
      "needs_background": "light"
     },
     "output_type": "display_data"
    }
   ],
   "source": [
    "combined1 = combined.copy()\n",
    "combined1['Fare'] = pd.qcut(combined1['Fare'], 10)\n",
    "fig, axs = plt.subplots(figsize=(20, 9))\n",
    "sns.countplot(x='Fare', hue='Survived', data=combined1)\n",
    "\n",
    "plt.show()"
   ]
  },
  {
   "cell_type": "code",
   "execution_count": 22,
   "id": "af627db4",
   "metadata": {},
   "outputs": [
    {
     "data": {
      "image/png": "[encoded data removed]",
      "text/plain": [
       "<Figure size 720x504 with 1 Axes>"
      ]
     },
     "metadata": {
      "needs_background": "light"
     },
     "output_type": "display_data"
    }
   ],
   "source": [
    "data_fare = train.groupby([\"Pclass\", \"Survived\"])[[\"Fare\"]].mean().reset_index()\n",
    "\n",
    "plt.figure(figsize=(10, 7))\n",
    "ax= sns.barplot(x=\"Pclass\", y=\"Fare\", hue=\"Survived\", data=data_fare)\n",
    "ax.bar_label(ax.containers[0], label_type='edge', fontsize=10, padding=3,fmt='%.2f')\n",
    "ax.bar_label(ax.containers[1], label_type='edge', fontsize=10, padding=3,fmt='%.2f')\n",
    "plt.title(\"Average Fare by Pclass with Survival\")\n",
    "plt.xlabel(\"Passenger Class\")\n",
    "plt.ylabel(\"Average Fare\")\n",
    "plt.show()"
   ]
  },
  {
   "cell_type": "markdown",
   "id": "07b3ca98",
   "metadata": {},
   "source": [
    "There is a clear trend of higher survival rates for higher fare values. Passengers paying over 100 fare had survival rates above 50%. This makes sense as higher fare correlated to higher classes which had better access to lifeboats. "
   ]
  },
  {
   "cell_type": "markdown",
   "id": "b74309d2",
   "metadata": {},
   "source": [
    "## Embarked"
   ]
  },
  {
   "cell_type": "code",
   "execution_count": 23,
   "id": "0771768c",
   "metadata": {},
   "outputs": [
    {
     "data": {
      "text/html": [
       "<div>\n",
       "<style scoped>\n",
       "    .dataframe tbody tr th:only-of-type {\n",
       "        vertical-align: middle;\n",
       "    }\n",
       "\n",
       "    .dataframe tbody tr th {\n",
       "        vertical-align: top;\n",
       "    }\n",
       "\n",
       "    .dataframe thead th {\n",
       "        text-align: right;\n",
       "    }\n",
       "</style>\n",
       "<table border=\"1\" class=\"dataframe\">\n",
       "  <thead>\n",
       "    <tr style=\"text-align: right;\">\n",
       "      <th></th>\n",
       "      <th>Embarked</th>\n",
       "      <th>Fare</th>\n",
       "    </tr>\n",
       "  </thead>\n",
       "  <tbody>\n",
       "    <tr>\n",
       "      <th>0</th>\n",
       "      <td>C</td>\n",
       "      <td>59.954144</td>\n",
       "    </tr>\n",
       "    <tr>\n",
       "      <th>1</th>\n",
       "      <td>Q</td>\n",
       "      <td>13.276030</td>\n",
       "    </tr>\n",
       "    <tr>\n",
       "      <th>2</th>\n",
       "      <td>S</td>\n",
       "      <td>27.079812</td>\n",
       "    </tr>\n",
       "  </tbody>\n",
       "</table>\n",
       "</div>"
      ],
      "text/plain": [
       "  Embarked       Fare\n",
       "0        C  59.954144\n",
       "1        Q  13.276030\n",
       "2        S  27.079812"
      ]
     },
     "execution_count": 23,
     "metadata": {},
     "output_type": "execute_result"
    }
   ],
   "source": [
    "train.groupby([\"Embarked\"])[[\"Fare\"]].mean().reset_index()"
   ]
  },
  {
   "cell_type": "code",
   "execution_count": 24,
   "id": "3c257602",
   "metadata": {},
   "outputs": [
    {
     "data": {
      "text/html": [
       "<div>\n",
       "<style scoped>\n",
       "    .dataframe tbody tr th:only-of-type {\n",
       "        vertical-align: middle;\n",
       "    }\n",
       "\n",
       "    .dataframe tbody tr th {\n",
       "        vertical-align: top;\n",
       "    }\n",
       "\n",
       "    .dataframe thead th {\n",
       "        text-align: right;\n",
       "    }\n",
       "</style>\n",
       "<table border=\"1\" class=\"dataframe\">\n",
       "  <thead>\n",
       "    <tr style=\"text-align: right;\">\n",
       "      <th></th>\n",
       "      <th>Embarked</th>\n",
       "      <th>Survived</th>\n",
       "    </tr>\n",
       "  </thead>\n",
       "  <tbody>\n",
       "    <tr>\n",
       "      <th>0</th>\n",
       "      <td>C</td>\n",
       "      <td>0.553571</td>\n",
       "    </tr>\n",
       "    <tr>\n",
       "      <th>1</th>\n",
       "      <td>Q</td>\n",
       "      <td>0.389610</td>\n",
       "    </tr>\n",
       "    <tr>\n",
       "      <th>2</th>\n",
       "      <td>S</td>\n",
       "      <td>0.336957</td>\n",
       "    </tr>\n",
       "  </tbody>\n",
       "</table>\n",
       "</div>"
      ],
      "text/plain": [
       "  Embarked  Survived\n",
       "0        C  0.553571\n",
       "1        Q  0.389610\n",
       "2        S  0.336957"
      ]
     },
     "execution_count": 24,
     "metadata": {},
     "output_type": "execute_result"
    }
   ],
   "source": [
    "train.groupby([\"Embarked\"])[[\"Survived\"]].mean().reset_index()"
   ]
  },
  {
   "cell_type": "code",
   "execution_count": 25,
   "id": "45a053bc",
   "metadata": {},
   "outputs": [
    {
     "data": {
      "text/html": [
       "<style type=\"text/css\">\n",
       "#T_59a8c_row0_col0, #T_59a8c_row0_col2, #T_59a8c_row0_col4, #T_59a8c_row1_col0, #T_59a8c_row1_col1, #T_59a8c_row1_col2, #T_59a8c_row1_col3, #T_59a8c_row1_col4, #T_59a8c_row2_col0, #T_59a8c_row2_col1, #T_59a8c_row2_col2, #T_59a8c_row2_col3, #T_59a8c_row2_col4, #T_59a8c_row3_col0, #T_59a8c_row3_col1, #T_59a8c_row3_col2, #T_59a8c_row3_col3, #T_59a8c_row3_col4, #T_59a8c_row4_col0, #T_59a8c_row4_col1, #T_59a8c_row4_col2, #T_59a8c_row4_col3, #T_59a8c_row4_col4, #T_59a8c_row5_col1, #T_59a8c_row5_col2, #T_59a8c_row5_col3, #T_59a8c_row5_col4, #T_59a8c_row6_col0, #T_59a8c_row6_col2, #T_59a8c_row7_col0 {\n",
       "  background-color: #fbb4ae;\n",
       "  color: #000000;\n",
       "}\n",
       "#T_59a8c_row0_col1, #T_59a8c_row0_col3, #T_59a8c_row5_col0, #T_59a8c_row6_col1, #T_59a8c_row6_col4, #T_59a8c_row7_col2, #T_59a8c_row7_col3, #T_59a8c_row7_col4, #T_59a8c_row8_col1 {\n",
       "  background-color: #b3cde3;\n",
       "  color: #000000;\n",
       "}\n",
       "#T_59a8c_row6_col3, #T_59a8c_row7_col1, #T_59a8c_row8_col3 {\n",
       "  background-color: #ccebc5;\n",
       "  color: #000000;\n",
       "}\n",
       "#T_59a8c_row8_col0 {\n",
       "  background-color: #e5d8bd;\n",
       "  color: #000000;\n",
       "}\n",
       "#T_59a8c_row8_col2 {\n",
       "  background-color: #fed9a6;\n",
       "  color: #000000;\n",
       "}\n",
       "#T_59a8c_row8_col4 {\n",
       "  background-color: #decbe4;\n",
       "  color: #000000;\n",
       "}\n",
       "#T_59a8c_row9_col0, #T_59a8c_row9_col1, #T_59a8c_row9_col2, #T_59a8c_row9_col3, #T_59a8c_row9_col4 {\n",
       "  background-color: #f2f2f2;\n",
       "  color: #000000;\n",
       "}\n",
       "</style>\n",
       "<table id=\"T_59a8c\">\n",
       "  <thead>\n",
       "    <tr>\n",
       "      <th class=\"blank\" >&nbsp;</th>\n",
       "      <th class=\"index_name level0\" >Sex</th>\n",
       "      <th id=\"T_59a8c_level0_col0\" class=\"col_heading level0 col0\" colspan=\"2\">female</th>\n",
       "      <th id=\"T_59a8c_level0_col2\" class=\"col_heading level0 col2\" colspan=\"2\">male</th>\n",
       "      <th id=\"T_59a8c_level0_col4\" class=\"col_heading level0 col4\" >All</th>\n",
       "    </tr>\n",
       "    <tr>\n",
       "      <th class=\"blank\" >&nbsp;</th>\n",
       "      <th class=\"index_name level1\" >Survived</th>\n",
       "      <th id=\"T_59a8c_level1_col0\" class=\"col_heading level1 col0\" >0</th>\n",
       "      <th id=\"T_59a8c_level1_col1\" class=\"col_heading level1 col1\" >1</th>\n",
       "      <th id=\"T_59a8c_level1_col2\" class=\"col_heading level1 col2\" >0</th>\n",
       "      <th id=\"T_59a8c_level1_col3\" class=\"col_heading level1 col3\" >1</th>\n",
       "      <th id=\"T_59a8c_level1_col4\" class=\"col_heading level1 col4\" ></th>\n",
       "    </tr>\n",
       "    <tr>\n",
       "      <th class=\"index_name level0\" >Embarked</th>\n",
       "      <th class=\"index_name level1\" >Pclass</th>\n",
       "      <th class=\"blank col0\" >&nbsp;</th>\n",
       "      <th class=\"blank col1\" >&nbsp;</th>\n",
       "      <th class=\"blank col2\" >&nbsp;</th>\n",
       "      <th class=\"blank col3\" >&nbsp;</th>\n",
       "      <th class=\"blank col4\" >&nbsp;</th>\n",
       "    </tr>\n",
       "  </thead>\n",
       "  <tbody>\n",
       "    <tr>\n",
       "      <th id=\"T_59a8c_level0_row0\" class=\"row_heading level0 row0\" rowspan=\"3\">C</th>\n",
       "      <th id=\"T_59a8c_level1_row0\" class=\"row_heading level1 row0\" >1</th>\n",
       "      <td id=\"T_59a8c_row0_col0\" class=\"data row0 col0\" >1</td>\n",
       "      <td id=\"T_59a8c_row0_col1\" class=\"data row0 col1\" >42</td>\n",
       "      <td id=\"T_59a8c_row0_col2\" class=\"data row0 col2\" >25</td>\n",
       "      <td id=\"T_59a8c_row0_col3\" class=\"data row0 col3\" >17</td>\n",
       "      <td id=\"T_59a8c_row0_col4\" class=\"data row0 col4\" >85</td>\n",
       "    </tr>\n",
       "    <tr>\n",
       "      <th id=\"T_59a8c_level1_row1\" class=\"row_heading level1 row1\" >2</th>\n",
       "      <td id=\"T_59a8c_row1_col0\" class=\"data row1 col0\" >0</td>\n",
       "      <td id=\"T_59a8c_row1_col1\" class=\"data row1 col1\" >7</td>\n",
       "      <td id=\"T_59a8c_row1_col2\" class=\"data row1 col2\" >8</td>\n",
       "      <td id=\"T_59a8c_row1_col3\" class=\"data row1 col3\" >2</td>\n",
       "      <td id=\"T_59a8c_row1_col4\" class=\"data row1 col4\" >17</td>\n",
       "    </tr>\n",
       "    <tr>\n",
       "      <th id=\"T_59a8c_level1_row2\" class=\"row_heading level1 row2\" >3</th>\n",
       "      <td id=\"T_59a8c_row2_col0\" class=\"data row2 col0\" >8</td>\n",
       "      <td id=\"T_59a8c_row2_col1\" class=\"data row2 col1\" >15</td>\n",
       "      <td id=\"T_59a8c_row2_col2\" class=\"data row2 col2\" >33</td>\n",
       "      <td id=\"T_59a8c_row2_col3\" class=\"data row2 col3\" >10</td>\n",
       "      <td id=\"T_59a8c_row2_col4\" class=\"data row2 col4\" >66</td>\n",
       "    </tr>\n",
       "    <tr>\n",
       "      <th id=\"T_59a8c_level0_row3\" class=\"row_heading level0 row3\" rowspan=\"3\">Q</th>\n",
       "      <th id=\"T_59a8c_level1_row3\" class=\"row_heading level1 row3\" >1</th>\n",
       "      <td id=\"T_59a8c_row3_col0\" class=\"data row3 col0\" >0</td>\n",
       "      <td id=\"T_59a8c_row3_col1\" class=\"data row3 col1\" >1</td>\n",
       "      <td id=\"T_59a8c_row3_col2\" class=\"data row3 col2\" >1</td>\n",
       "      <td id=\"T_59a8c_row3_col3\" class=\"data row3 col3\" >0</td>\n",
       "      <td id=\"T_59a8c_row3_col4\" class=\"data row3 col4\" >2</td>\n",
       "    </tr>\n",
       "    <tr>\n",
       "      <th id=\"T_59a8c_level1_row4\" class=\"row_heading level1 row4\" >2</th>\n",
       "      <td id=\"T_59a8c_row4_col0\" class=\"data row4 col0\" >0</td>\n",
       "      <td id=\"T_59a8c_row4_col1\" class=\"data row4 col1\" >2</td>\n",
       "      <td id=\"T_59a8c_row4_col2\" class=\"data row4 col2\" >1</td>\n",
       "      <td id=\"T_59a8c_row4_col3\" class=\"data row4 col3\" >0</td>\n",
       "      <td id=\"T_59a8c_row4_col4\" class=\"data row4 col4\" >3</td>\n",
       "    </tr>\n",
       "    <tr>\n",
       "      <th id=\"T_59a8c_level1_row5\" class=\"row_heading level1 row5\" >3</th>\n",
       "      <td id=\"T_59a8c_row5_col0\" class=\"data row5 col0\" >9</td>\n",
       "      <td id=\"T_59a8c_row5_col1\" class=\"data row5 col1\" >24</td>\n",
       "      <td id=\"T_59a8c_row5_col2\" class=\"data row5 col2\" >36</td>\n",
       "      <td id=\"T_59a8c_row5_col3\" class=\"data row5 col3\" >3</td>\n",
       "      <td id=\"T_59a8c_row5_col4\" class=\"data row5 col4\" >72</td>\n",
       "    </tr>\n",
       "    <tr>\n",
       "      <th id=\"T_59a8c_level0_row6\" class=\"row_heading level0 row6\" rowspan=\"3\">S</th>\n",
       "      <th id=\"T_59a8c_level1_row6\" class=\"row_heading level1 row6\" >1</th>\n",
       "      <td id=\"T_59a8c_row6_col0\" class=\"data row6 col0\" >2</td>\n",
       "      <td id=\"T_59a8c_row6_col1\" class=\"data row6 col1\" >46</td>\n",
       "      <td id=\"T_59a8c_row6_col2\" class=\"data row6 col2\" >51</td>\n",
       "      <td id=\"T_59a8c_row6_col3\" class=\"data row6 col3\" >28</td>\n",
       "      <td id=\"T_59a8c_row6_col4\" class=\"data row6 col4\" >127</td>\n",
       "    </tr>\n",
       "    <tr>\n",
       "      <th id=\"T_59a8c_level1_row7\" class=\"row_heading level1 row7\" >2</th>\n",
       "      <td id=\"T_59a8c_row7_col0\" class=\"data row7 col0\" >6</td>\n",
       "      <td id=\"T_59a8c_row7_col1\" class=\"data row7 col1\" >61</td>\n",
       "      <td id=\"T_59a8c_row7_col2\" class=\"data row7 col2\" >82</td>\n",
       "      <td id=\"T_59a8c_row7_col3\" class=\"data row7 col3\" >15</td>\n",
       "      <td id=\"T_59a8c_row7_col4\" class=\"data row7 col4\" >164</td>\n",
       "    </tr>\n",
       "    <tr>\n",
       "      <th id=\"T_59a8c_level1_row8\" class=\"row_heading level1 row8\" >3</th>\n",
       "      <td id=\"T_59a8c_row8_col0\" class=\"data row8 col0\" >55</td>\n",
       "      <td id=\"T_59a8c_row8_col1\" class=\"data row8 col1\" >33</td>\n",
       "      <td id=\"T_59a8c_row8_col2\" class=\"data row8 col2\" >231</td>\n",
       "      <td id=\"T_59a8c_row8_col3\" class=\"data row8 col3\" >34</td>\n",
       "      <td id=\"T_59a8c_row8_col4\" class=\"data row8 col4\" >353</td>\n",
       "    </tr>\n",
       "    <tr>\n",
       "      <th id=\"T_59a8c_level0_row9\" class=\"row_heading level0 row9\" >All</th>\n",
       "      <th id=\"T_59a8c_level1_row9\" class=\"row_heading level1 row9\" ></th>\n",
       "      <td id=\"T_59a8c_row9_col0\" class=\"data row9 col0\" >81</td>\n",
       "      <td id=\"T_59a8c_row9_col1\" class=\"data row9 col1\" >231</td>\n",
       "      <td id=\"T_59a8c_row9_col2\" class=\"data row9 col2\" >468</td>\n",
       "      <td id=\"T_59a8c_row9_col3\" class=\"data row9 col3\" >109</td>\n",
       "      <td id=\"T_59a8c_row9_col4\" class=\"data row9 col4\" >889</td>\n",
       "    </tr>\n",
       "  </tbody>\n",
       "</table>\n"
      ],
      "text/plain": [
       "<pandas.io.formats.style.Styler at 0x24739a00370>"
      ]
     },
     "execution_count": 25,
     "metadata": {},
     "output_type": "execute_result"
    }
   ],
   "source": [
    "(pd.crosstab([train[\"Embarked\"],train[\"Pclass\"]],\n",
    "             [train[\"Sex\"],train[\"Survived\"]],margins=True).style.background_gradient(cmap='Pastel1'))"
   ]
  },
  {
   "cell_type": "markdown",
   "id": "78201d84",
   "metadata": {},
   "source": [
    "Looking at the crosstab between Embarked, Pclass, Sex and Survived: \n",
    "\n",
    "    • For all embarkation ports, women had much higher survival rates than men across all passenger classes.\n",
    "    • In general, survival decreased with lower passenger class, but women still had relatively high survival rates even in 3rd  class.\n",
    "    • Southampton showed the greatest decrease in survival between the highest and lowest classes (55% to 15%), the single largest drop of 43 percentage points occurred at Cherbourg, going from Pclass 1 to Pclass 2."
   ]
  },
  {
   "cell_type": "markdown",
   "id": "7a4e912c",
   "metadata": {},
   "source": [
    "# Feature Engineering"
   ]
  },
  {
   "cell_type": "markdown",
   "id": "2a8a76a4",
   "metadata": {},
   "source": [
    "## Add Aditional Data"
   ]
  },
  {
   "cell_type": "code",
   "execution_count": 26,
   "id": "135bfd60",
   "metadata": {},
   "outputs": [],
   "source": [
    "combined[\"family\"] = combined[\"Parch\"] + combined[\"SibSp\"]+1\n",
    "combined[\"singlef\"] = combined[\"family\"].map(lambda i: 1 if i ==1 else 0)\n",
    "#combined[\"smallf\"] = combined[\"family\"].map(lambda i: 1 if i == 2 else 0)\n",
    "#combined[\"mediumf\"] = combined[\"family\"].map(lambda i: 1 if 3 <= i <= 4 else 0)\n",
    "#combined[\"largef\"] = combined[\"family\"].map(lambda i: 1 if i >= 5 else 0)"
   ]
  },
  {
   "cell_type": "code",
   "execution_count": 27,
   "id": "56d6d944",
   "metadata": {},
   "outputs": [],
   "source": [
    "#combined['Fare_Per_Person']=combined['Fare']/(combined['family']+1)"
   ]
  },
  {
   "cell_type": "code",
   "execution_count": 28,
   "id": "55878aec",
   "metadata": {},
   "outputs": [],
   "source": [
    "combined[\"CabinBool\"] = (combined[\"Cabin\"].notnull().astype('int'))"
   ]
  },
  {
   "cell_type": "markdown",
   "id": "d80fda56",
   "metadata": {},
   "source": [
    "family survival rate increase pretty much my score and the below code is actually i found from the ....., i have worked my own family survival rate but turns out not really increase as much as the .... code."
   ]
  },
  {
   "cell_type": "code",
   "execution_count": 29,
   "id": "3fe3baf3",
   "metadata": {},
   "outputs": [],
   "source": [
    "def family_survival():\n",
    "    global combined\n",
    "\n",
    "    ''' A function working on family survival rate using last names and ticket features: '''\n",
    "\n",
    "    # Extracting surnames:\n",
    "    \n",
    "    combined['Last_Name'] = combined['Name'].apply(\n",
    "        lambda x: str.split(x, \",\")[0])\n",
    "\n",
    "    # Adding new feature: 'Survived'\n",
    "    \n",
    "    default_survival_rate = 0.5\n",
    "    combined['Family_Survival'] = default_survival_rate\n",
    "\n",
    "    for grp, grp_df in combined[[\n",
    "            'Survived', 'Name', 'Last_Name', 'Fare', 'Ticket', 'PassengerId',\n",
    "            'SibSp', 'Parch', 'Age', 'Cabin'\n",
    "    ]].groupby(['Last_Name', 'Fare']):\n",
    "\n",
    "        if (len(grp_df) != 1):\n",
    "            \n",
    "            # A Family group is found.\n",
    "            \n",
    "            for ind, row in grp_df.iterrows():\n",
    "                smax = grp_df.drop(ind)['Survived'].max()\n",
    "                smin = grp_df.drop(ind)['Survived'].min()\n",
    "                passID = row['PassengerId']\n",
    "                if (smax == 1.0):\n",
    "                    combined.loc[combined['PassengerId'] ==\n",
    "                                 passID, 'Family_Survival'] = 1\n",
    "                elif (smin == 0.0):\n",
    "                    combined.loc[combined['PassengerId'] ==\n",
    "                                 passID, 'Family_Survival'] = 0\n",
    "\n",
    "    for _, grp_df in combined.groupby('Ticket'):\n",
    "        if (len(grp_df) != 1):\n",
    "            for ind, row in grp_df.iterrows():\n",
    "                if (row['Family_Survival'] == 0) | (\n",
    "                        row['Family_Survival'] == 0.5):\n",
    "                    smax = grp_df.drop(ind)['Survived'].max()\n",
    "                    smin = grp_df.drop(ind)['Survived'].min()\n",
    "                    passID = row['PassengerId']\n",
    "                    if (smax == 1.0):\n",
    "                        combined.loc[combined['PassengerId'] ==\n",
    "                                     passID, 'Family_Survival'] = 1\n",
    "                    elif (smin == 0.0):\n",
    "                        combined.loc[combined['PassengerId'] ==\n",
    "                                     passID, 'Family_Survival'] = 0\n",
    "\n",
    "    return combined    "
   ]
  },
  {
   "cell_type": "code",
   "execution_count": 30,
   "id": "bc3165f8",
   "metadata": {},
   "outputs": [],
   "source": [
    "combined = family_survival()"
   ]
  },
  {
   "cell_type": "code",
   "execution_count": 31,
   "id": "8716691d",
   "metadata": {},
   "outputs": [],
   "source": [
    "combined.drop([\"PassengerId\", \"Last_Name\"], axis=1, inplace=True)"
   ]
  },
  {
   "cell_type": "code",
   "execution_count": 32,
   "id": "ba3f6f2d",
   "metadata": {},
   "outputs": [
    {
     "data": {
      "text/plain": [
       "'\\ndef family_survival(combined):\\n    \\'\\'\\' A function working on family survival rate using last names and ticket features. \\'\\'\\'\\n\\n    # Extracting surnames:\\n    last_names = []\\n    for i in combined[\"Name\"]:\\n        i_str = str(i)\\n        name_parts = i_str.split(\",\")[0]\\n        last_names.append(name_parts)\\n\\n    combined[\"last_name\"] = pd.Series(last_names)\\n\\n    # Calculate family survival rate based on last name and ticket features:\\n    default_survival_rate = 0.5\\n    combined[\\'Family_Survival\\'] = default_survival_rate\\n\\n    for grp, grp_df in combined[[\\n        \\'Survived\\', \\'Name\\', \\'last_name\\', \\'Fare\\', \\'Ticket\\', \\'PassengerId\\',\\n        \\'SibSp\\', \\'Parch\\', \\'Age\\', \\'Cabin\\'\\n    ]].groupby([\\'last_name\\', \\'Fare\\']):\\n\\n        if len(grp_df) > 1:\\n            for ind, row in grp_df.iterrows():\\n                # Find the maximum and minimum survival values for the family\\n                smax = grp_df[\\'Survived\\'].max()\\n                smin = grp_df[\\'Survived\\'].min()\\n                passID = row[\\'PassengerId\\']\\n\\n                # Assign family survival rate to \\'Family_Survival\\' column for each family member\\n                if smax == 1.0:\\n                    combined.loc[combined[\\'PassengerId\\'] == passID, \\'Family_Survival\\'] = 1\\n                elif smin == 0.0:\\n                    combined.loc[combined[\\'PassengerId\\'] == passID, \\'Family_Survival\\'] = 0\\n\\n    # After calculating family survival rates, process group by \\'Ticket\\'\\n    for _, grp_df in combined.groupby(\\'Ticket\\'):\\n        if len(grp_df) != 1:\\n            for ind, row in grp_df.iterrows():\\n                if len(combined.loc[combined[\\'PassengerId\\'] == row[\\'PassengerId\\'], \\'Family_Survival\\']) == 0:\\n                    if (grp_df[\\'Family_Survival\\'].mean() != 0.0) & (grp_df[\\'Family_Survival\\'].mean() != 1.0):\\n                        combined.loc[combined[\\'PassengerId\\'] == row[\\'PassengerId\\'], \\'Family_Survival\\'] = grp_df[\\'Family_Survival\\'].mean()\\n\\n    # Drop the temporary \\'last_name\\' column as it\\'s no longer needed\\n    combined.drop(columns=[\\'last_name\\'], inplace=True)\\n\\n    return combined\\n\\n# Call the function and assign the modified DataFrame to the \\'combined\\' variable\\ncombined = family_survival(combined)\\n    '"
      ]
     },
     "execution_count": 32,
     "metadata": {},
     "output_type": "execute_result"
    }
   ],
   "source": [
    "\"\"\"\n",
    "def family_survival(combined):\n",
    "    ''' A function working on family survival rate using last names and ticket features. '''\n",
    "\n",
    "    # Extracting surnames:\n",
    "    last_names = []\n",
    "    for i in combined[\"Name\"]:\n",
    "        i_str = str(i)\n",
    "        name_parts = i_str.split(\",\")[0]\n",
    "        last_names.append(name_parts)\n",
    "\n",
    "    combined[\"last_name\"] = pd.Series(last_names)\n",
    "\n",
    "    # Calculate family survival rate based on last name and ticket features:\n",
    "    default_survival_rate = 0.5\n",
    "    combined['Family_Survival'] = default_survival_rate\n",
    "\n",
    "    for grp, grp_df in combined[[\n",
    "        'Survived', 'Name', 'last_name', 'Fare', 'Ticket', 'PassengerId',\n",
    "        'SibSp', 'Parch', 'Age', 'Cabin'\n",
    "    ]].groupby(['last_name', 'Fare']):\n",
    "\n",
    "        if len(grp_df) > 1:\n",
    "            for ind, row in grp_df.iterrows():\n",
    "                # Find the maximum and minimum survival values for the family\n",
    "                smax = grp_df['Survived'].max()\n",
    "                smin = grp_df['Survived'].min()\n",
    "                passID = row['PassengerId']\n",
    "\n",
    "                # Assign family survival rate to 'Family_Survival' column for each family member\n",
    "                if smax == 1.0:\n",
    "                    combined.loc[combined['PassengerId'] == passID, 'Family_Survival'] = 1\n",
    "                elif smin == 0.0:\n",
    "                    combined.loc[combined['PassengerId'] == passID, 'Family_Survival'] = 0\n",
    "\n",
    "    # After calculating family survival rates, process group by 'Ticket'\n",
    "    for _, grp_df in combined.groupby('Ticket'):\n",
    "        if len(grp_df) != 1:\n",
    "            for ind, row in grp_df.iterrows():\n",
    "                if len(combined.loc[combined['PassengerId'] == row['PassengerId'], 'Family_Survival']) == 0:\n",
    "                    if (grp_df['Family_Survival'].mean() != 0.0) & (grp_df['Family_Survival'].mean() != 1.0):\n",
    "                        combined.loc[combined['PassengerId'] == row['PassengerId'], 'Family_Survival'] = grp_df['Family_Survival'].mean()\n",
    "\n",
    "    # Drop the temporary 'last_name' column as it's no longer needed\n",
    "    combined.drop(columns=['last_name'], inplace=True)\n",
    "\n",
    "    return combined\n",
    "\n",
    "# Call the function and assign the modified DataFrame to the 'combined' variable\n",
    "combined = family_survival(combined)\n",
    "    \"\"\""
   ]
  },
  {
   "cell_type": "markdown",
   "id": "07a9e416",
   "metadata": {},
   "source": [
    "## Feature Transformation"
   ]
  },
  {
   "cell_type": "code",
   "execution_count": 33,
   "id": "699b01fa",
   "metadata": {},
   "outputs": [],
   "source": [
    "title_dictionary = {\n",
    "        'Capt': 'Mr',\n",
    "        'Col': 'Other',\n",
    "        'Major': 'Mr',\n",
    "        'Jonkheer': 'Other',\n",
    "        'Don': 'Mr',\n",
    "        'Dona': 'Mrs',\n",
    "        'Sir': 'Mr',\n",
    "        'Dr': 'Mr',\n",
    "        'Rev': 'Other',\n",
    "        'the Countess': 'Mrs',\n",
    "        'Mme': 'Miss',\n",
    "        'Mlle': 'Miss',\n",
    "        'Ms': 'Miss',\n",
    "        'Mr': 'Mr',\n",
    "        'Mrs': 'Mrs',\n",
    "        'Miss': 'Miss',\n",
    "        'Master': 'Master',\n",
    "        'Lady': 'Mrs'\n",
    "    }\n",
    "    \n",
    "combined[\"title\"] = combined[\"Name\"].map(lambda i: i.split(',')[1].split(\".\")[0].strip())\n",
    "combined[\"title\"] = combined[\"title\"].map(title_dictionary)\n",
    "combined.drop(\"Name\", axis=1, inplace=True)"
   ]
  },
  {
   "cell_type": "markdown",
   "id": "1d1abee8",
   "metadata": {},
   "source": [
    "## Filling the Missing Values"
   ]
  },
  {
   "cell_type": "markdown",
   "id": "c0a546cb",
   "metadata": {},
   "source": [
    "### Age"
   ]
  },
  {
   "cell_type": "markdown",
   "id": "6b7f0e24",
   "metadata": {},
   "source": [
    "\n",
    "To fill in the missing age values, I decided to use the mean of titles and ages instead of the median, as the scores increased slightly"
   ]
  },
  {
   "cell_type": "code",
   "execution_count": 34,
   "id": "acc430d4",
   "metadata": {},
   "outputs": [
    {
     "data": {
      "text/html": [
       "<div>\n",
       "<style scoped>\n",
       "    .dataframe tbody tr th:only-of-type {\n",
       "        vertical-align: middle;\n",
       "    }\n",
       "\n",
       "    .dataframe tbody tr th {\n",
       "        vertical-align: top;\n",
       "    }\n",
       "\n",
       "    .dataframe thead th {\n",
       "        text-align: right;\n",
       "    }\n",
       "</style>\n",
       "<table border=\"1\" class=\"dataframe\">\n",
       "  <thead>\n",
       "    <tr style=\"text-align: right;\">\n",
       "      <th></th>\n",
       "      <th>title</th>\n",
       "      <th>Age</th>\n",
       "    </tr>\n",
       "  </thead>\n",
       "  <tbody>\n",
       "    <tr>\n",
       "      <th>0</th>\n",
       "      <td>Master</td>\n",
       "      <td>5.482642</td>\n",
       "    </tr>\n",
       "    <tr>\n",
       "      <th>1</th>\n",
       "      <td>Miss</td>\n",
       "      <td>21.834533</td>\n",
       "    </tr>\n",
       "    <tr>\n",
       "      <th>2</th>\n",
       "      <td>Mr</td>\n",
       "      <td>32.545531</td>\n",
       "    </tr>\n",
       "    <tr>\n",
       "      <th>3</th>\n",
       "      <td>Mrs</td>\n",
       "      <td>37.046243</td>\n",
       "    </tr>\n",
       "    <tr>\n",
       "      <th>4</th>\n",
       "      <td>Other</td>\n",
       "      <td>44.923077</td>\n",
       "    </tr>\n",
       "  </tbody>\n",
       "</table>\n",
       "</div>"
      ],
      "text/plain": [
       "    title        Age\n",
       "0  Master   5.482642\n",
       "1    Miss  21.834533\n",
       "2      Mr  32.545531\n",
       "3     Mrs  37.046243\n",
       "4   Other  44.923077"
      ]
     },
     "execution_count": 34,
     "metadata": {},
     "output_type": "execute_result"
    }
   ],
   "source": [
    "combined.groupby([\"title\"])[[\"Age\"]].mean().reset_index()"
   ]
  },
  {
   "cell_type": "code",
   "execution_count": 35,
   "id": "67f97741",
   "metadata": {},
   "outputs": [
    {
     "data": {
      "text/plain": [
       "'\\ncombined.loc[(combined[\"Age\"].isnull()) & (combined[\"title\"]==\"Mr\"), \"Age\"] = 30\\ncombined.loc[(combined[\"Age\"].isnull()) & (combined[\"title\"]==\"Mrs\"), \"Age\"] = 36\\ncombined.loc[(combined[\"Age\"].isnull()) & (combined[\"title\"]==\"Master\"), \"Age\"] = 4\\ncombined.loc[(combined[\"Age\"].isnull()) & (combined[\"title\"]==\"Miss\"), \"Age\"] = 22\\ncombined.loc[(combined[\"Age\"].isnull()) & (combined[\"title\"]==\"Other\"), \"Age\"] = 47\\n    '"
      ]
     },
     "execution_count": 35,
     "metadata": {},
     "output_type": "execute_result"
    }
   ],
   "source": [
    "\"\"\"\n",
    "combined.loc[(combined[\"Age\"].isnull()) & (combined[\"title\"]==\"Mr\"), \"Age\"] = 30\n",
    "combined.loc[(combined[\"Age\"].isnull()) & (combined[\"title\"]==\"Mrs\"), \"Age\"] = 36\n",
    "combined.loc[(combined[\"Age\"].isnull()) & (combined[\"title\"]==\"Master\"), \"Age\"] = 4\n",
    "combined.loc[(combined[\"Age\"].isnull()) & (combined[\"title\"]==\"Miss\"), \"Age\"] = 22\n",
    "combined.loc[(combined[\"Age\"].isnull()) & (combined[\"title\"]==\"Other\"), \"Age\"] = 47\n",
    "    \"\"\""
   ]
  },
  {
   "cell_type": "code",
   "execution_count": 36,
   "id": "5e556bdf",
   "metadata": {},
   "outputs": [],
   "source": [
    "combined.loc[(combined[\"Age\"].isnull()) & (combined[\"title\"]==\"Mr\"), \"Age\"] = 33\n",
    "combined.loc[(combined[\"Age\"].isnull()) & (combined[\"title\"]==\"Mrs\"), \"Age\"] = 37\n",
    "combined.loc[(combined[\"Age\"].isnull()) & (combined[\"title\"]==\"Master\"), \"Age\"] = 5\n",
    "combined.loc[(combined[\"Age\"].isnull()) & (combined[\"title\"]==\"Miss\"), \"Age\"] = 22\n",
    "combined.loc[(combined[\"Age\"].isnull()) & (combined[\"title\"]==\"Other\"), \"Age\"] = 45"
   ]
  },
  {
   "cell_type": "markdown",
   "id": "0ed09a06",
   "metadata": {},
   "source": [
    "### Age Group"
   ]
  },
  {
   "cell_type": "markdown",
   "id": "4842fa08",
   "metadata": {},
   "source": [
    "I made an age categorization using the silhouette method and the results are pretty good"
   ]
  },
  {
   "cell_type": "code",
   "execution_count": 37,
   "id": "8f589791",
   "metadata": {},
   "outputs": [],
   "source": [
    "from sklearn.cluster import KMeans\n",
    "from sklearn.metrics import silhouette_score\n",
    "\n",
    "\n",
    "data = combined[\"Age\"].values.reshape(-1, 1)\n",
    "\n",
    "# Define the range of cluster numbers you want to try\n",
    "min_clusters = 2\n",
    "max_clusters = 8\n",
    "\n",
    "# Create a list to store the cluster labels for different configurations\n",
    "sil = []\n",
    "\n",
    "# Iterate through different cluster numbers\n",
    "for i in range(min_clusters, max_clusters + 1):\n",
    "    kmeans = KMeans(n_clusters=i).fit(data)\n",
    "    labels = kmeans.labels_\n",
    "   \n",
    "    sil.append(silhouette_score(data, labels, metric = 'euclidean'))\n",
    "plt_data=pd.concat([pd.Series(range(2,9)),pd.Series(sil)],axis=1)\n",
    "   \n",
    "    \n"
   ]
  },
  {
   "cell_type": "code",
   "execution_count": 38,
   "id": "fccfe3b9",
   "metadata": {},
   "outputs": [
    {
     "data": {
      "image/png": "[encoded data removed]",
      "text/plain": [
       "<Figure size 432x288 with 1 Axes>"
      ]
     },
     "metadata": {
      "needs_background": "light"
     },
     "output_type": "display_data"
    }
   ],
   "source": [
    "plt_data.rename( columns={ 0 :'clusters' , 1 :'silhouette scores'}, inplace=True )\n",
    "   \n",
    "ax = sns.lineplot(x=\"clusters\", y=\"silhouette scores\",\n",
    "                       estimator=None, lw=1,\n",
    "                       err_style=\"bars\", ci=68, \n",
    "                       data=plt_data)"
   ]
  },
  {
   "cell_type": "code",
   "execution_count": 39,
   "id": "44ffc683",
   "metadata": {},
   "outputs": [],
   "source": [
    "data = combined[\"Age\"].values.reshape(-1, 1)\n",
    "\n",
    "kmeans = KMeans(n_clusters=5, random_state=0).fit(data)\n",
    "labels = kmeans.labels_\n",
    "\n",
    "data_df = pd.DataFrame(data, columns=['Age'])\n",
    "\n",
    "data_df['age_grp'] = labels + 1"
   ]
  },
  {
   "cell_type": "code",
   "execution_count": 40,
   "id": "4caf660a",
   "metadata": {},
   "outputs": [],
   "source": [
    "combined[\"age_grp\"] = data_df[\"age_grp\"]"
   ]
  },
  {
   "cell_type": "code",
   "execution_count": 41,
   "id": "888faa4c",
   "metadata": {},
   "outputs": [],
   "source": [
    "age_bins = pd.get_dummies(combined[\"age_grp\"], prefix=\"age_grp\")"
   ]
  },
  {
   "cell_type": "code",
   "execution_count": 42,
   "id": "5d88f545",
   "metadata": {},
   "outputs": [],
   "source": [
    "combined = pd.concat([combined, age_bins], axis=1)\n",
    "combined.drop('age_grp', inplace=True, axis=1)\n",
    "combined.drop('Age', inplace=True, axis=1)"
   ]
  },
  {
   "cell_type": "markdown",
   "id": "7968a3d4",
   "metadata": {},
   "source": [
    "### Embarked "
   ]
  },
  {
   "cell_type": "code",
   "execution_count": 43,
   "id": "89f49800",
   "metadata": {},
   "outputs": [],
   "source": [
    "combined['Embarked'].fillna('C', inplace = True)"
   ]
  },
  {
   "cell_type": "markdown",
   "id": "824c125c",
   "metadata": {},
   "source": [
    "There's 2 missing values on Embarked, and both of these passengers have a fare amount of 80. Since 80 is closest to the mean fare for Cherbourg(you can see this on EDA process), it is a reasonable assumption that these two passengers with missing values likely embarked from Cherbourg. So i decided to fill these 2 missing values with embarked C"
   ]
  },
  {
   "cell_type": "markdown",
   "id": "6f088e6a",
   "metadata": {},
   "source": [
    "### Fare "
   ]
  },
  {
   "cell_type": "code",
   "execution_count": 44,
   "id": "67421e65",
   "metadata": {},
   "outputs": [],
   "source": [
    "combined['Fare'] = combined.groupby(\n",
    "        ['Pclass', 'Sex'])['Fare'].apply(lambda x: x.fillna(x.median()))"
   ]
  },
  {
   "cell_type": "markdown",
   "id": "d1b6771c",
   "metadata": {},
   "source": [
    "### Fare Normalization"
   ]
  },
  {
   "cell_type": "code",
   "execution_count": 45,
   "id": "de50a1f8",
   "metadata": {},
   "outputs": [],
   "source": [
    "from scipy.stats import skew, boxcox_normmax, norm\n",
    "from scipy.special import boxcox1p\n",
    "combined['Fare'] = boxcox1p(combined['Fare'],\n",
    "                                boxcox_normmax(combined['Fare'] + 1))"
   ]
  },
  {
   "cell_type": "markdown",
   "id": "ed3c11f1",
   "metadata": {},
   "source": [
    "### Fare Group"
   ]
  },
  {
   "cell_type": "code",
   "execution_count": 46,
   "id": "2571edef",
   "metadata": {},
   "outputs": [],
   "source": [
    "from sklearn.cluster import KMeans\n",
    "from sklearn.metrics import silhouette_score\n",
    "\n",
    "data = combined[\"Fare\"].values.reshape(-1, 1)\n",
    "\n",
    "sil = []\n",
    "for  i in range(2, 9):\n",
    "    kmeans = KMeans(n_clusters=i).fit(data)\n",
    "    labels = kmeans.labels_\n",
    "    sil.append(silhouette_score(data, labels, metric = 'euclidean'))\n",
    "    \n",
    "plt_data=pd.concat([pd.Series(range(2,9)),pd.Series(sil)],axis=1)"
   ]
  },
  {
   "cell_type": "code",
   "execution_count": 47,
   "id": "a376c07b",
   "metadata": {},
   "outputs": [
    {
     "data": {
      "text/html": [
       "<div>\n",
       "<style scoped>\n",
       "    .dataframe tbody tr th:only-of-type {\n",
       "        vertical-align: middle;\n",
       "    }\n",
       "\n",
       "    .dataframe tbody tr th {\n",
       "        vertical-align: top;\n",
       "    }\n",
       "\n",
       "    .dataframe thead th {\n",
       "        text-align: right;\n",
       "    }\n",
       "</style>\n",
       "<table border=\"1\" class=\"dataframe\">\n",
       "  <thead>\n",
       "    <tr style=\"text-align: right;\">\n",
       "      <th></th>\n",
       "      <th>0</th>\n",
       "      <th>1</th>\n",
       "    </tr>\n",
       "  </thead>\n",
       "  <tbody>\n",
       "    <tr>\n",
       "      <th>0</th>\n",
       "      <td>2</td>\n",
       "      <td>0.636513</td>\n",
       "    </tr>\n",
       "    <tr>\n",
       "      <th>1</th>\n",
       "      <td>3</td>\n",
       "      <td>0.621765</td>\n",
       "    </tr>\n",
       "    <tr>\n",
       "      <th>2</th>\n",
       "      <td>4</td>\n",
       "      <td>0.656917</td>\n",
       "    </tr>\n",
       "    <tr>\n",
       "      <th>3</th>\n",
       "      <td>5</td>\n",
       "      <td>0.652633</td>\n",
       "    </tr>\n",
       "    <tr>\n",
       "      <th>4</th>\n",
       "      <td>6</td>\n",
       "      <td>0.703430</td>\n",
       "    </tr>\n",
       "    <tr>\n",
       "      <th>5</th>\n",
       "      <td>7</td>\n",
       "      <td>0.694099</td>\n",
       "    </tr>\n",
       "    <tr>\n",
       "      <th>6</th>\n",
       "      <td>8</td>\n",
       "      <td>0.699437</td>\n",
       "    </tr>\n",
       "  </tbody>\n",
       "</table>\n",
       "</div>"
      ],
      "text/plain": [
       "   0         1\n",
       "0  2  0.636513\n",
       "1  3  0.621765\n",
       "2  4  0.656917\n",
       "3  5  0.652633\n",
       "4  6  0.703430\n",
       "5  7  0.694099\n",
       "6  8  0.699437"
      ]
     },
     "execution_count": 47,
     "metadata": {},
     "output_type": "execute_result"
    }
   ],
   "source": [
    "plt_data"
   ]
  },
  {
   "cell_type": "code",
   "execution_count": 48,
   "id": "097753a2",
   "metadata": {},
   "outputs": [
    {
     "data": {
      "image/png": "[encoded data removed]",
      "text/plain": [
       "<Figure size 432x288 with 1 Axes>"
      ]
     },
     "metadata": {
      "needs_background": "light"
     },
     "output_type": "display_data"
    }
   ],
   "source": [
    "plt_data.rename( columns={ 0 :'clusters' , 1 :'silhouette scores'}, inplace=True )\n",
    "\n",
    "ax = sns.lineplot(x=\"clusters\", y=\"silhouette scores\",\n",
    "                       estimator=None, lw=1,\n",
    "                       err_style=\"bars\", ci=68, \n",
    "                       data=plt_data)"
   ]
  },
  {
   "cell_type": "code",
   "execution_count": 49,
   "id": "e66c79be",
   "metadata": {},
   "outputs": [],
   "source": [
    "data = combined[\"Fare\"].values.reshape(-1, 1)\n",
    "\n",
    "kmeans = KMeans(n_clusters=6, random_state=0).fit(data)\n",
    "\n",
    "labels = kmeans.labels_\n",
    "\n",
    "data_df = pd.DataFrame(data, columns=['Fare'])\n",
    "\n",
    "data_df['fare_grp'] = labels + 1"
   ]
  },
  {
   "cell_type": "code",
   "execution_count": 50,
   "id": "ae1140e1",
   "metadata": {},
   "outputs": [],
   "source": [
    "combined[\"fare_grp\"] = data_df['fare_grp']"
   ]
  },
  {
   "cell_type": "code",
   "execution_count": 51,
   "id": "8645bafd",
   "metadata": {},
   "outputs": [
    {
     "data": {
      "text/plain": [
       "4    476\n",
       "1    304\n",
       "2    256\n",
       "6    185\n",
       "3     71\n",
       "5     17\n",
       "Name: fare_grp, dtype: int64"
      ]
     },
     "execution_count": 51,
     "metadata": {},
     "output_type": "execute_result"
    }
   ],
   "source": [
    "combined[\"fare_grp\"].value_counts()"
   ]
  },
  {
   "cell_type": "code",
   "execution_count": 52,
   "id": "dd469af2",
   "metadata": {},
   "outputs": [],
   "source": [
    "fare_encod = pd.get_dummies(combined[\"fare_grp\"], prefix=\"fare_grp\")\n",
    "combined = pd.concat([fare_encod, combined], axis=1)\n",
    "combined.drop(\"Fare\",axis=1,inplace=True)"
   ]
  },
  {
   "cell_type": "code",
   "execution_count": 53,
   "id": "27488467",
   "metadata": {},
   "outputs": [],
   "source": [
    "combined.drop([\"fare_grp\"],axis=1,inplace=True)"
   ]
  },
  {
   "cell_type": "code",
   "execution_count": 54,
   "id": "b4f9316d",
   "metadata": {},
   "outputs": [
    {
     "data": {
      "text/html": [
       "<div>\n",
       "<style scoped>\n",
       "    .dataframe tbody tr th:only-of-type {\n",
       "        vertical-align: middle;\n",
       "    }\n",
       "\n",
       "    .dataframe tbody tr th {\n",
       "        vertical-align: top;\n",
       "    }\n",
       "\n",
       "    .dataframe thead th {\n",
       "        text-align: right;\n",
       "    }\n",
       "</style>\n",
       "<table border=\"1\" class=\"dataframe\">\n",
       "  <thead>\n",
       "    <tr style=\"text-align: right;\">\n",
       "      <th></th>\n",
       "      <th>fare_grp_1</th>\n",
       "      <th>fare_grp_2</th>\n",
       "      <th>fare_grp_3</th>\n",
       "      <th>fare_grp_4</th>\n",
       "      <th>fare_grp_5</th>\n",
       "      <th>fare_grp_6</th>\n",
       "      <th>Survived</th>\n",
       "      <th>Pclass</th>\n",
       "      <th>Sex</th>\n",
       "      <th>SibSp</th>\n",
       "      <th>...</th>\n",
       "      <th>family</th>\n",
       "      <th>singlef</th>\n",
       "      <th>CabinBool</th>\n",
       "      <th>Family_Survival</th>\n",
       "      <th>title</th>\n",
       "      <th>age_grp_1</th>\n",
       "      <th>age_grp_2</th>\n",
       "      <th>age_grp_3</th>\n",
       "      <th>age_grp_4</th>\n",
       "      <th>age_grp_5</th>\n",
       "    </tr>\n",
       "  </thead>\n",
       "  <tbody>\n",
       "    <tr>\n",
       "      <th>0</th>\n",
       "      <td>0</td>\n",
       "      <td>0</td>\n",
       "      <td>0</td>\n",
       "      <td>1</td>\n",
       "      <td>0</td>\n",
       "      <td>0</td>\n",
       "      <td>0.0</td>\n",
       "      <td>3</td>\n",
       "      <td>male</td>\n",
       "      <td>1</td>\n",
       "      <td>...</td>\n",
       "      <td>2</td>\n",
       "      <td>0</td>\n",
       "      <td>0</td>\n",
       "      <td>0.5</td>\n",
       "      <td>Mr</td>\n",
       "      <td>0</td>\n",
       "      <td>0</td>\n",
       "      <td>1</td>\n",
       "      <td>0</td>\n",
       "      <td>0</td>\n",
       "    </tr>\n",
       "    <tr>\n",
       "      <th>1</th>\n",
       "      <td>0</td>\n",
       "      <td>0</td>\n",
       "      <td>0</td>\n",
       "      <td>0</td>\n",
       "      <td>0</td>\n",
       "      <td>1</td>\n",
       "      <td>1.0</td>\n",
       "      <td>1</td>\n",
       "      <td>female</td>\n",
       "      <td>1</td>\n",
       "      <td>...</td>\n",
       "      <td>2</td>\n",
       "      <td>0</td>\n",
       "      <td>1</td>\n",
       "      <td>0.5</td>\n",
       "      <td>Mrs</td>\n",
       "      <td>0</td>\n",
       "      <td>1</td>\n",
       "      <td>0</td>\n",
       "      <td>0</td>\n",
       "      <td>0</td>\n",
       "    </tr>\n",
       "    <tr>\n",
       "      <th>2</th>\n",
       "      <td>0</td>\n",
       "      <td>0</td>\n",
       "      <td>0</td>\n",
       "      <td>1</td>\n",
       "      <td>0</td>\n",
       "      <td>0</td>\n",
       "      <td>1.0</td>\n",
       "      <td>3</td>\n",
       "      <td>female</td>\n",
       "      <td>0</td>\n",
       "      <td>...</td>\n",
       "      <td>1</td>\n",
       "      <td>1</td>\n",
       "      <td>0</td>\n",
       "      <td>0.5</td>\n",
       "      <td>Miss</td>\n",
       "      <td>0</td>\n",
       "      <td>0</td>\n",
       "      <td>1</td>\n",
       "      <td>0</td>\n",
       "      <td>0</td>\n",
       "    </tr>\n",
       "    <tr>\n",
       "      <th>3</th>\n",
       "      <td>0</td>\n",
       "      <td>0</td>\n",
       "      <td>0</td>\n",
       "      <td>0</td>\n",
       "      <td>0</td>\n",
       "      <td>1</td>\n",
       "      <td>1.0</td>\n",
       "      <td>1</td>\n",
       "      <td>female</td>\n",
       "      <td>1</td>\n",
       "      <td>...</td>\n",
       "      <td>2</td>\n",
       "      <td>0</td>\n",
       "      <td>1</td>\n",
       "      <td>0.0</td>\n",
       "      <td>Mrs</td>\n",
       "      <td>0</td>\n",
       "      <td>1</td>\n",
       "      <td>0</td>\n",
       "      <td>0</td>\n",
       "      <td>0</td>\n",
       "    </tr>\n",
       "    <tr>\n",
       "      <th>4</th>\n",
       "      <td>0</td>\n",
       "      <td>0</td>\n",
       "      <td>0</td>\n",
       "      <td>1</td>\n",
       "      <td>0</td>\n",
       "      <td>0</td>\n",
       "      <td>0.0</td>\n",
       "      <td>3</td>\n",
       "      <td>male</td>\n",
       "      <td>0</td>\n",
       "      <td>...</td>\n",
       "      <td>1</td>\n",
       "      <td>1</td>\n",
       "      <td>0</td>\n",
       "      <td>0.5</td>\n",
       "      <td>Mr</td>\n",
       "      <td>0</td>\n",
       "      <td>1</td>\n",
       "      <td>0</td>\n",
       "      <td>0</td>\n",
       "      <td>0</td>\n",
       "    </tr>\n",
       "    <tr>\n",
       "      <th>...</th>\n",
       "      <td>...</td>\n",
       "      <td>...</td>\n",
       "      <td>...</td>\n",
       "      <td>...</td>\n",
       "      <td>...</td>\n",
       "      <td>...</td>\n",
       "      <td>...</td>\n",
       "      <td>...</td>\n",
       "      <td>...</td>\n",
       "      <td>...</td>\n",
       "      <td>...</td>\n",
       "      <td>...</td>\n",
       "      <td>...</td>\n",
       "      <td>...</td>\n",
       "      <td>...</td>\n",
       "      <td>...</td>\n",
       "      <td>...</td>\n",
       "      <td>...</td>\n",
       "      <td>...</td>\n",
       "      <td>...</td>\n",
       "      <td>...</td>\n",
       "    </tr>\n",
       "    <tr>\n",
       "      <th>1304</th>\n",
       "      <td>0</td>\n",
       "      <td>0</td>\n",
       "      <td>0</td>\n",
       "      <td>1</td>\n",
       "      <td>0</td>\n",
       "      <td>0</td>\n",
       "      <td>NaN</td>\n",
       "      <td>3</td>\n",
       "      <td>male</td>\n",
       "      <td>0</td>\n",
       "      <td>...</td>\n",
       "      <td>1</td>\n",
       "      <td>1</td>\n",
       "      <td>0</td>\n",
       "      <td>0.5</td>\n",
       "      <td>Mr</td>\n",
       "      <td>0</td>\n",
       "      <td>1</td>\n",
       "      <td>0</td>\n",
       "      <td>0</td>\n",
       "      <td>0</td>\n",
       "    </tr>\n",
       "    <tr>\n",
       "      <th>1305</th>\n",
       "      <td>0</td>\n",
       "      <td>0</td>\n",
       "      <td>0</td>\n",
       "      <td>0</td>\n",
       "      <td>0</td>\n",
       "      <td>1</td>\n",
       "      <td>NaN</td>\n",
       "      <td>1</td>\n",
       "      <td>female</td>\n",
       "      <td>0</td>\n",
       "      <td>...</td>\n",
       "      <td>1</td>\n",
       "      <td>1</td>\n",
       "      <td>1</td>\n",
       "      <td>1.0</td>\n",
       "      <td>Mrs</td>\n",
       "      <td>0</td>\n",
       "      <td>0</td>\n",
       "      <td>0</td>\n",
       "      <td>1</td>\n",
       "      <td>0</td>\n",
       "    </tr>\n",
       "    <tr>\n",
       "      <th>1306</th>\n",
       "      <td>0</td>\n",
       "      <td>0</td>\n",
       "      <td>0</td>\n",
       "      <td>1</td>\n",
       "      <td>0</td>\n",
       "      <td>0</td>\n",
       "      <td>NaN</td>\n",
       "      <td>3</td>\n",
       "      <td>male</td>\n",
       "      <td>0</td>\n",
       "      <td>...</td>\n",
       "      <td>1</td>\n",
       "      <td>1</td>\n",
       "      <td>0</td>\n",
       "      <td>0.5</td>\n",
       "      <td>Mr</td>\n",
       "      <td>0</td>\n",
       "      <td>0</td>\n",
       "      <td>0</td>\n",
       "      <td>1</td>\n",
       "      <td>0</td>\n",
       "    </tr>\n",
       "    <tr>\n",
       "      <th>1307</th>\n",
       "      <td>0</td>\n",
       "      <td>0</td>\n",
       "      <td>0</td>\n",
       "      <td>1</td>\n",
       "      <td>0</td>\n",
       "      <td>0</td>\n",
       "      <td>NaN</td>\n",
       "      <td>3</td>\n",
       "      <td>male</td>\n",
       "      <td>0</td>\n",
       "      <td>...</td>\n",
       "      <td>1</td>\n",
       "      <td>1</td>\n",
       "      <td>0</td>\n",
       "      <td>0.5</td>\n",
       "      <td>Mr</td>\n",
       "      <td>0</td>\n",
       "      <td>1</td>\n",
       "      <td>0</td>\n",
       "      <td>0</td>\n",
       "      <td>0</td>\n",
       "    </tr>\n",
       "    <tr>\n",
       "      <th>1308</th>\n",
       "      <td>1</td>\n",
       "      <td>0</td>\n",
       "      <td>0</td>\n",
       "      <td>0</td>\n",
       "      <td>0</td>\n",
       "      <td>0</td>\n",
       "      <td>NaN</td>\n",
       "      <td>3</td>\n",
       "      <td>male</td>\n",
       "      <td>1</td>\n",
       "      <td>...</td>\n",
       "      <td>3</td>\n",
       "      <td>0</td>\n",
       "      <td>0</td>\n",
       "      <td>1.0</td>\n",
       "      <td>Master</td>\n",
       "      <td>0</td>\n",
       "      <td>0</td>\n",
       "      <td>0</td>\n",
       "      <td>0</td>\n",
       "      <td>1</td>\n",
       "    </tr>\n",
       "  </tbody>\n",
       "</table>\n",
       "<p>1309 rows × 24 columns</p>\n",
       "</div>"
      ],
      "text/plain": [
       "      fare_grp_1  fare_grp_2  fare_grp_3  fare_grp_4  fare_grp_5  fare_grp_6  \\\n",
       "0              0           0           0           1           0           0   \n",
       "1              0           0           0           0           0           1   \n",
       "2              0           0           0           1           0           0   \n",
       "3              0           0           0           0           0           1   \n",
       "4              0           0           0           1           0           0   \n",
       "...          ...         ...         ...         ...         ...         ...   \n",
       "1304           0           0           0           1           0           0   \n",
       "1305           0           0           0           0           0           1   \n",
       "1306           0           0           0           1           0           0   \n",
       "1307           0           0           0           1           0           0   \n",
       "1308           1           0           0           0           0           0   \n",
       "\n",
       "      Survived  Pclass     Sex  SibSp  ...  family singlef CabinBool  \\\n",
       "0          0.0       3    male      1  ...       2       0         0   \n",
       "1          1.0       1  female      1  ...       2       0         1   \n",
       "2          1.0       3  female      0  ...       1       1         0   \n",
       "3          1.0       1  female      1  ...       2       0         1   \n",
       "4          0.0       3    male      0  ...       1       1         0   \n",
       "...        ...     ...     ...    ...  ...     ...     ...       ...   \n",
       "1304       NaN       3    male      0  ...       1       1         0   \n",
       "1305       NaN       1  female      0  ...       1       1         1   \n",
       "1306       NaN       3    male      0  ...       1       1         0   \n",
       "1307       NaN       3    male      0  ...       1       1         0   \n",
       "1308       NaN       3    male      1  ...       3       0         0   \n",
       "\n",
       "     Family_Survival   title  age_grp_1  age_grp_2  age_grp_3 age_grp_4  \\\n",
       "0                0.5      Mr          0          0          1         0   \n",
       "1                0.5     Mrs          0          1          0         0   \n",
       "2                0.5    Miss          0          0          1         0   \n",
       "3                0.0     Mrs          0          1          0         0   \n",
       "4                0.5      Mr          0          1          0         0   \n",
       "...              ...     ...        ...        ...        ...       ...   \n",
       "1304             0.5      Mr          0          1          0         0   \n",
       "1305             1.0     Mrs          0          0          0         1   \n",
       "1306             0.5      Mr          0          0          0         1   \n",
       "1307             0.5      Mr          0          1          0         0   \n",
       "1308             1.0  Master          0          0          0         0   \n",
       "\n",
       "      age_grp_5  \n",
       "0             0  \n",
       "1             0  \n",
       "2             0  \n",
       "3             0  \n",
       "4             0  \n",
       "...         ...  \n",
       "1304          0  \n",
       "1305          0  \n",
       "1306          0  \n",
       "1307          0  \n",
       "1308          1  \n",
       "\n",
       "[1309 rows x 24 columns]"
      ]
     },
     "execution_count": 54,
     "metadata": {},
     "output_type": "execute_result"
    }
   ],
   "source": [
    "combined"
   ]
  },
  {
   "cell_type": "markdown",
   "id": "7fbcaa07",
   "metadata": {},
   "source": [
    "### Cabin"
   ]
  },
  {
   "cell_type": "markdown",
   "id": "6fce8272",
   "metadata": {},
   "source": [
    "I decided to leave the cabin as i didn't see any increase in score, other than the hassle"
   ]
  },
  {
   "cell_type": "code",
   "execution_count": 55,
   "id": "8dba0579",
   "metadata": {},
   "outputs": [],
   "source": [
    "#combined[\"Cabin\"].fillna(\"N\", inplace=True)"
   ]
  },
  {
   "cell_type": "code",
   "execution_count": 56,
   "id": "6ba18b51",
   "metadata": {},
   "outputs": [],
   "source": [
    "#combined.Cabin = [str(i)[0] for i in combined.Cabin]"
   ]
  },
  {
   "cell_type": "code",
   "execution_count": 57,
   "id": "c3a2d403",
   "metadata": {},
   "outputs": [
    {
     "data": {
      "text/plain": [
       "'\\ncabin_list = []\\nfor i in combined[\"Cabin\"]:\\n    cabin = str(i)\\n    cabin_list.append(cabin[0])\\ncombined[\"Cabin\"] = cabin_list\\n    '"
      ]
     },
     "execution_count": 57,
     "metadata": {},
     "output_type": "execute_result"
    }
   ],
   "source": [
    "\"\"\"\n",
    "cabin_list = []\n",
    "for i in combined[\"Cabin\"]:\n",
    "    cabin = str(i)\n",
    "    cabin_list.append(cabin[0])\n",
    "combined[\"Cabin\"] = cabin_list\n",
    "    \"\"\""
   ]
  },
  {
   "cell_type": "code",
   "execution_count": 58,
   "id": "5ae8fd56",
   "metadata": {},
   "outputs": [],
   "source": [
    "#combined.groupby(\"Cabin\")['Fare'].mean().sort_values()"
   ]
  },
  {
   "cell_type": "code",
   "execution_count": 59,
   "id": "bac1638e",
   "metadata": {},
   "outputs": [
    {
     "data": {
      "text/plain": [
       "'\\ndef cabin_estimator(i):\\n\\n    a = 0\\n    if i<16:\\n        a = \"G\"\\n    elif i>=16 and i<27:\\n        a = \"F\"\\n    elif i>=27 and i<38:\\n        a = \"T\"\\n    elif i>=38 and i<47:\\n        a = \"A\"\\n    elif i>= 47 and i<53:\\n        a = \"E\"\\n    elif i>= 53 and i<54:\\n        a = \"D\"\\n    elif i>=54 and i<116:\\n        a = \\'C\\'\\n    else:\\n        a = \"B\"\\n    return a\\n\\ncombined[\\'Cabin\\'] = combined[\"Fare\"].apply(lambda x: cabin_estimator(x))\\n '"
      ]
     },
     "execution_count": 59,
     "metadata": {},
     "output_type": "execute_result"
    }
   ],
   "source": [
    "\"\"\"\n",
    "def cabin_estimator(i):\n",
    "\n",
    "    a = 0\n",
    "    if i<16:\n",
    "        a = \"G\"\n",
    "    elif i>=16 and i<27:\n",
    "        a = \"F\"\n",
    "    elif i>=27 and i<38:\n",
    "        a = \"T\"\n",
    "    elif i>=38 and i<47:\n",
    "        a = \"A\"\n",
    "    elif i>= 47 and i<53:\n",
    "        a = \"E\"\n",
    "    elif i>= 53 and i<54:\n",
    "        a = \"D\"\n",
    "    elif i>=54 and i<116:\n",
    "        a = 'C'\n",
    "    else:\n",
    "        a = \"B\"\n",
    "    return a\n",
    "\n",
    "combined['Cabin'] = combined[\"Fare\"].apply(lambda x: cabin_estimator(x))\n",
    " \"\"\""
   ]
  },
  {
   "cell_type": "code",
   "execution_count": 60,
   "id": "a516e543",
   "metadata": {},
   "outputs": [],
   "source": [
    "combined.drop(\"Cabin\", axis=1, inplace=True)"
   ]
  },
  {
   "cell_type": "markdown",
   "id": "9f80ab33",
   "metadata": {},
   "source": [
    "### Ticket"
   ]
  },
  {
   "cell_type": "markdown",
   "id": "4074c821",
   "metadata": {},
   "source": [
    "the same reason as cabin, i decided to drop ticket"
   ]
  },
  {
   "cell_type": "code",
   "execution_count": 61,
   "id": "960996ea",
   "metadata": {},
   "outputs": [],
   "source": [
    "combined.drop(\"Ticket\", axis=1, inplace=True)"
   ]
  },
  {
   "cell_type": "markdown",
   "id": "459a6d69",
   "metadata": {},
   "source": [
    "### Title Encoder"
   ]
  },
  {
   "cell_type": "code",
   "execution_count": 62,
   "id": "6471b9f3",
   "metadata": {},
   "outputs": [],
   "source": [
    "title_encoder = pd.get_dummies(combined[\"title\"], prefix=\"title\")\n",
    "combined = pd.concat([title_encoder, combined], axis=1)\n",
    "combined.drop(\"title\",axis=1,inplace=True)"
   ]
  },
  {
   "cell_type": "markdown",
   "id": "0353fea1",
   "metadata": {},
   "source": [
    "### Embarked Encoder"
   ]
  },
  {
   "cell_type": "code",
   "execution_count": 63,
   "id": "947b0acb",
   "metadata": {},
   "outputs": [],
   "source": [
    "Embarked_encoder = pd.get_dummies(combined[\"Embarked\"], prefix=\"Embarked\")\n",
    "combined = pd.concat([Embarked_encoder, combined], axis=1)\n",
    "combined.drop(\"Embarked\",axis=1,inplace=True)"
   ]
  },
  {
   "cell_type": "markdown",
   "id": "6a6eda93",
   "metadata": {},
   "source": [
    "### Cabin Encoder"
   ]
  },
  {
   "cell_type": "code",
   "execution_count": 64,
   "id": "21482a21",
   "metadata": {},
   "outputs": [],
   "source": [
    "#cabin_encoder = pd.get_dummies(combined[\"Cabin\"], prefix=\"Cabin\")\n",
    "#combined = pd.concat([cabin_encoder, combined], axis=1)\n",
    "#combined.drop(\"Cabin\",axis=1,inplace=True)"
   ]
  },
  {
   "cell_type": "markdown",
   "id": "f22f4c7e",
   "metadata": {},
   "source": [
    "### Sex Encoder"
   ]
  },
  {
   "cell_type": "code",
   "execution_count": 65,
   "id": "cafb6d94",
   "metadata": {},
   "outputs": [],
   "source": [
    "combined[\"Sex\"] = combined[\"Sex\"].map({\"male\":1, \"female\":0})"
   ]
  },
  {
   "cell_type": "markdown",
   "id": "475caf28",
   "metadata": {},
   "source": [
    "### Pclass Encoder"
   ]
  },
  {
   "cell_type": "code",
   "execution_count": 66,
   "id": "f7911431",
   "metadata": {},
   "outputs": [],
   "source": [
    "#pclass_encoder = pd.get_dummies(combined[\"Pclass\"], prefix=\"Pclass\")\n",
    "#combined = pd.concat([pclass_encoder, combined], axis=1)\n",
    "#combined.drop(\"Pclass\",axis=1,inplace=True)"
   ]
  },
  {
   "cell_type": "code",
   "execution_count": 67,
   "id": "1aa5132d",
   "metadata": {},
   "outputs": [
    {
     "data": {
      "text/html": [
       "<div>\n",
       "<style scoped>\n",
       "    .dataframe tbody tr th:only-of-type {\n",
       "        vertical-align: middle;\n",
       "    }\n",
       "\n",
       "    .dataframe tbody tr th {\n",
       "        vertical-align: top;\n",
       "    }\n",
       "\n",
       "    .dataframe thead th {\n",
       "        text-align: right;\n",
       "    }\n",
       "</style>\n",
       "<table border=\"1\" class=\"dataframe\">\n",
       "  <thead>\n",
       "    <tr style=\"text-align: right;\">\n",
       "      <th></th>\n",
       "      <th>Embarked_C</th>\n",
       "      <th>Embarked_Q</th>\n",
       "      <th>Embarked_S</th>\n",
       "      <th>title_Master</th>\n",
       "      <th>title_Miss</th>\n",
       "      <th>title_Mr</th>\n",
       "      <th>title_Mrs</th>\n",
       "      <th>title_Other</th>\n",
       "      <th>fare_grp_1</th>\n",
       "      <th>fare_grp_2</th>\n",
       "      <th>...</th>\n",
       "      <th>Parch</th>\n",
       "      <th>family</th>\n",
       "      <th>singlef</th>\n",
       "      <th>CabinBool</th>\n",
       "      <th>Family_Survival</th>\n",
       "      <th>age_grp_1</th>\n",
       "      <th>age_grp_2</th>\n",
       "      <th>age_grp_3</th>\n",
       "      <th>age_grp_4</th>\n",
       "      <th>age_grp_5</th>\n",
       "    </tr>\n",
       "  </thead>\n",
       "  <tbody>\n",
       "    <tr>\n",
       "      <th>0</th>\n",
       "      <td>0</td>\n",
       "      <td>0</td>\n",
       "      <td>1</td>\n",
       "      <td>0</td>\n",
       "      <td>0</td>\n",
       "      <td>1</td>\n",
       "      <td>0</td>\n",
       "      <td>0</td>\n",
       "      <td>0</td>\n",
       "      <td>0</td>\n",
       "      <td>...</td>\n",
       "      <td>0</td>\n",
       "      <td>2</td>\n",
       "      <td>0</td>\n",
       "      <td>0</td>\n",
       "      <td>0.5</td>\n",
       "      <td>0</td>\n",
       "      <td>0</td>\n",
       "      <td>1</td>\n",
       "      <td>0</td>\n",
       "      <td>0</td>\n",
       "    </tr>\n",
       "    <tr>\n",
       "      <th>1</th>\n",
       "      <td>1</td>\n",
       "      <td>0</td>\n",
       "      <td>0</td>\n",
       "      <td>0</td>\n",
       "      <td>0</td>\n",
       "      <td>0</td>\n",
       "      <td>1</td>\n",
       "      <td>0</td>\n",
       "      <td>0</td>\n",
       "      <td>0</td>\n",
       "      <td>...</td>\n",
       "      <td>0</td>\n",
       "      <td>2</td>\n",
       "      <td>0</td>\n",
       "      <td>1</td>\n",
       "      <td>0.5</td>\n",
       "      <td>0</td>\n",
       "      <td>1</td>\n",
       "      <td>0</td>\n",
       "      <td>0</td>\n",
       "      <td>0</td>\n",
       "    </tr>\n",
       "    <tr>\n",
       "      <th>2</th>\n",
       "      <td>0</td>\n",
       "      <td>0</td>\n",
       "      <td>1</td>\n",
       "      <td>0</td>\n",
       "      <td>1</td>\n",
       "      <td>0</td>\n",
       "      <td>0</td>\n",
       "      <td>0</td>\n",
       "      <td>0</td>\n",
       "      <td>0</td>\n",
       "      <td>...</td>\n",
       "      <td>0</td>\n",
       "      <td>1</td>\n",
       "      <td>1</td>\n",
       "      <td>0</td>\n",
       "      <td>0.5</td>\n",
       "      <td>0</td>\n",
       "      <td>0</td>\n",
       "      <td>1</td>\n",
       "      <td>0</td>\n",
       "      <td>0</td>\n",
       "    </tr>\n",
       "    <tr>\n",
       "      <th>3</th>\n",
       "      <td>0</td>\n",
       "      <td>0</td>\n",
       "      <td>1</td>\n",
       "      <td>0</td>\n",
       "      <td>0</td>\n",
       "      <td>0</td>\n",
       "      <td>1</td>\n",
       "      <td>0</td>\n",
       "      <td>0</td>\n",
       "      <td>0</td>\n",
       "      <td>...</td>\n",
       "      <td>0</td>\n",
       "      <td>2</td>\n",
       "      <td>0</td>\n",
       "      <td>1</td>\n",
       "      <td>0.0</td>\n",
       "      <td>0</td>\n",
       "      <td>1</td>\n",
       "      <td>0</td>\n",
       "      <td>0</td>\n",
       "      <td>0</td>\n",
       "    </tr>\n",
       "    <tr>\n",
       "      <th>4</th>\n",
       "      <td>0</td>\n",
       "      <td>0</td>\n",
       "      <td>1</td>\n",
       "      <td>0</td>\n",
       "      <td>0</td>\n",
       "      <td>1</td>\n",
       "      <td>0</td>\n",
       "      <td>0</td>\n",
       "      <td>0</td>\n",
       "      <td>0</td>\n",
       "      <td>...</td>\n",
       "      <td>0</td>\n",
       "      <td>1</td>\n",
       "      <td>1</td>\n",
       "      <td>0</td>\n",
       "      <td>0.5</td>\n",
       "      <td>0</td>\n",
       "      <td>1</td>\n",
       "      <td>0</td>\n",
       "      <td>0</td>\n",
       "      <td>0</td>\n",
       "    </tr>\n",
       "    <tr>\n",
       "      <th>...</th>\n",
       "      <td>...</td>\n",
       "      <td>...</td>\n",
       "      <td>...</td>\n",
       "      <td>...</td>\n",
       "      <td>...</td>\n",
       "      <td>...</td>\n",
       "      <td>...</td>\n",
       "      <td>...</td>\n",
       "      <td>...</td>\n",
       "      <td>...</td>\n",
       "      <td>...</td>\n",
       "      <td>...</td>\n",
       "      <td>...</td>\n",
       "      <td>...</td>\n",
       "      <td>...</td>\n",
       "      <td>...</td>\n",
       "      <td>...</td>\n",
       "      <td>...</td>\n",
       "      <td>...</td>\n",
       "      <td>...</td>\n",
       "      <td>...</td>\n",
       "    </tr>\n",
       "    <tr>\n",
       "      <th>1304</th>\n",
       "      <td>0</td>\n",
       "      <td>0</td>\n",
       "      <td>1</td>\n",
       "      <td>0</td>\n",
       "      <td>0</td>\n",
       "      <td>1</td>\n",
       "      <td>0</td>\n",
       "      <td>0</td>\n",
       "      <td>0</td>\n",
       "      <td>0</td>\n",
       "      <td>...</td>\n",
       "      <td>0</td>\n",
       "      <td>1</td>\n",
       "      <td>1</td>\n",
       "      <td>0</td>\n",
       "      <td>0.5</td>\n",
       "      <td>0</td>\n",
       "      <td>1</td>\n",
       "      <td>0</td>\n",
       "      <td>0</td>\n",
       "      <td>0</td>\n",
       "    </tr>\n",
       "    <tr>\n",
       "      <th>1305</th>\n",
       "      <td>1</td>\n",
       "      <td>0</td>\n",
       "      <td>0</td>\n",
       "      <td>0</td>\n",
       "      <td>0</td>\n",
       "      <td>0</td>\n",
       "      <td>1</td>\n",
       "      <td>0</td>\n",
       "      <td>0</td>\n",
       "      <td>0</td>\n",
       "      <td>...</td>\n",
       "      <td>0</td>\n",
       "      <td>1</td>\n",
       "      <td>1</td>\n",
       "      <td>1</td>\n",
       "      <td>1.0</td>\n",
       "      <td>0</td>\n",
       "      <td>0</td>\n",
       "      <td>0</td>\n",
       "      <td>1</td>\n",
       "      <td>0</td>\n",
       "    </tr>\n",
       "    <tr>\n",
       "      <th>1306</th>\n",
       "      <td>0</td>\n",
       "      <td>0</td>\n",
       "      <td>1</td>\n",
       "      <td>0</td>\n",
       "      <td>0</td>\n",
       "      <td>1</td>\n",
       "      <td>0</td>\n",
       "      <td>0</td>\n",
       "      <td>0</td>\n",
       "      <td>0</td>\n",
       "      <td>...</td>\n",
       "      <td>0</td>\n",
       "      <td>1</td>\n",
       "      <td>1</td>\n",
       "      <td>0</td>\n",
       "      <td>0.5</td>\n",
       "      <td>0</td>\n",
       "      <td>0</td>\n",
       "      <td>0</td>\n",
       "      <td>1</td>\n",
       "      <td>0</td>\n",
       "    </tr>\n",
       "    <tr>\n",
       "      <th>1307</th>\n",
       "      <td>0</td>\n",
       "      <td>0</td>\n",
       "      <td>1</td>\n",
       "      <td>0</td>\n",
       "      <td>0</td>\n",
       "      <td>1</td>\n",
       "      <td>0</td>\n",
       "      <td>0</td>\n",
       "      <td>0</td>\n",
       "      <td>0</td>\n",
       "      <td>...</td>\n",
       "      <td>0</td>\n",
       "      <td>1</td>\n",
       "      <td>1</td>\n",
       "      <td>0</td>\n",
       "      <td>0.5</td>\n",
       "      <td>0</td>\n",
       "      <td>1</td>\n",
       "      <td>0</td>\n",
       "      <td>0</td>\n",
       "      <td>0</td>\n",
       "    </tr>\n",
       "    <tr>\n",
       "      <th>1308</th>\n",
       "      <td>1</td>\n",
       "      <td>0</td>\n",
       "      <td>0</td>\n",
       "      <td>1</td>\n",
       "      <td>0</td>\n",
       "      <td>0</td>\n",
       "      <td>0</td>\n",
       "      <td>0</td>\n",
       "      <td>1</td>\n",
       "      <td>0</td>\n",
       "      <td>...</td>\n",
       "      <td>1</td>\n",
       "      <td>3</td>\n",
       "      <td>0</td>\n",
       "      <td>0</td>\n",
       "      <td>1.0</td>\n",
       "      <td>0</td>\n",
       "      <td>0</td>\n",
       "      <td>0</td>\n",
       "      <td>0</td>\n",
       "      <td>1</td>\n",
       "    </tr>\n",
       "  </tbody>\n",
       "</table>\n",
       "<p>1309 rows × 28 columns</p>\n",
       "</div>"
      ],
      "text/plain": [
       "      Embarked_C  Embarked_Q  Embarked_S  title_Master  title_Miss  title_Mr  \\\n",
       "0              0           0           1             0           0         1   \n",
       "1              1           0           0             0           0         0   \n",
       "2              0           0           1             0           1         0   \n",
       "3              0           0           1             0           0         0   \n",
       "4              0           0           1             0           0         1   \n",
       "...          ...         ...         ...           ...         ...       ...   \n",
       "1304           0           0           1             0           0         1   \n",
       "1305           1           0           0             0           0         0   \n",
       "1306           0           0           1             0           0         1   \n",
       "1307           0           0           1             0           0         1   \n",
       "1308           1           0           0             1           0         0   \n",
       "\n",
       "      title_Mrs  title_Other  fare_grp_1  fare_grp_2  ...  Parch  family  \\\n",
       "0             0            0           0           0  ...      0       2   \n",
       "1             1            0           0           0  ...      0       2   \n",
       "2             0            0           0           0  ...      0       1   \n",
       "3             1            0           0           0  ...      0       2   \n",
       "4             0            0           0           0  ...      0       1   \n",
       "...         ...          ...         ...         ...  ...    ...     ...   \n",
       "1304          0            0           0           0  ...      0       1   \n",
       "1305          1            0           0           0  ...      0       1   \n",
       "1306          0            0           0           0  ...      0       1   \n",
       "1307          0            0           0           0  ...      0       1   \n",
       "1308          0            0           1           0  ...      1       3   \n",
       "\n",
       "      singlef  CabinBool  Family_Survival  age_grp_1  age_grp_2  age_grp_3  \\\n",
       "0           0          0              0.5          0          0          1   \n",
       "1           0          1              0.5          0          1          0   \n",
       "2           1          0              0.5          0          0          1   \n",
       "3           0          1              0.0          0          1          0   \n",
       "4           1          0              0.5          0          1          0   \n",
       "...       ...        ...              ...        ...        ...        ...   \n",
       "1304        1          0              0.5          0          1          0   \n",
       "1305        1          1              1.0          0          0          0   \n",
       "1306        1          0              0.5          0          0          0   \n",
       "1307        1          0              0.5          0          1          0   \n",
       "1308        0          0              1.0          0          0          0   \n",
       "\n",
       "      age_grp_4  age_grp_5  \n",
       "0             0          0  \n",
       "1             0          0  \n",
       "2             0          0  \n",
       "3             0          0  \n",
       "4             0          0  \n",
       "...         ...        ...  \n",
       "1304          0          0  \n",
       "1305          1          0  \n",
       "1306          1          0  \n",
       "1307          0          0  \n",
       "1308          0          1  \n",
       "\n",
       "[1309 rows x 28 columns]"
      ]
     },
     "execution_count": 67,
     "metadata": {},
     "output_type": "execute_result"
    }
   ],
   "source": [
    "combined"
   ]
  },
  {
   "cell_type": "markdown",
   "id": "7e87fcf8",
   "metadata": {},
   "source": [
    "# Modeling"
   ]
  },
  {
   "cell_type": "code",
   "execution_count": null,
   "id": "3fb3f36a",
   "metadata": {},
   "outputs": [],
   "source": []
  },
  {
   "cell_type": "code",
   "execution_count": 68,
   "id": "f8d331cb",
   "metadata": {},
   "outputs": [],
   "source": [
    "idx = len(train)"
   ]
  },
  {
   "cell_type": "code",
   "execution_count": 69,
   "id": "053ddf6d",
   "metadata": {},
   "outputs": [],
   "source": [
    "combined.drop(\"Survived\", axis=1, inplace=True)"
   ]
  },
  {
   "cell_type": "code",
   "execution_count": 70,
   "id": "05d2c680",
   "metadata": {},
   "outputs": [],
   "source": [
    "x_train = combined.iloc[:idx].copy()\n",
    "x_test = combined.iloc[idx:].copy()\n",
    "\n",
    "y = train[\"Survived\"]"
   ]
  },
  {
   "cell_type": "code",
   "execution_count": 71,
   "id": "5ab2b8ea",
   "metadata": {},
   "outputs": [
    {
     "name": "stdout",
     "output_type": "stream",
     "text": [
      "(891, 27), (418, 27), (891,)\n"
     ]
    }
   ],
   "source": [
    "print(f\"{x_train.shape}, {x_test.shape}, {y.shape}\")"
   ]
  },
  {
   "cell_type": "code",
   "execution_count": 72,
   "id": "cb4fdd2b",
   "metadata": {},
   "outputs": [
    {
     "data": {
      "text/html": [
       "<div>\n",
       "<style scoped>\n",
       "    .dataframe tbody tr th:only-of-type {\n",
       "        vertical-align: middle;\n",
       "    }\n",
       "\n",
       "    .dataframe tbody tr th {\n",
       "        vertical-align: top;\n",
       "    }\n",
       "\n",
       "    .dataframe thead th {\n",
       "        text-align: right;\n",
       "    }\n",
       "</style>\n",
       "<table border=\"1\" class=\"dataframe\">\n",
       "  <thead>\n",
       "    <tr style=\"text-align: right;\">\n",
       "      <th></th>\n",
       "      <th>Embarked_C</th>\n",
       "      <th>Embarked_Q</th>\n",
       "      <th>Embarked_S</th>\n",
       "      <th>title_Master</th>\n",
       "      <th>title_Miss</th>\n",
       "      <th>title_Mr</th>\n",
       "      <th>title_Mrs</th>\n",
       "      <th>title_Other</th>\n",
       "      <th>fare_grp_1</th>\n",
       "      <th>fare_grp_2</th>\n",
       "      <th>...</th>\n",
       "      <th>Parch</th>\n",
       "      <th>family</th>\n",
       "      <th>singlef</th>\n",
       "      <th>CabinBool</th>\n",
       "      <th>Family_Survival</th>\n",
       "      <th>age_grp_1</th>\n",
       "      <th>age_grp_2</th>\n",
       "      <th>age_grp_3</th>\n",
       "      <th>age_grp_4</th>\n",
       "      <th>age_grp_5</th>\n",
       "    </tr>\n",
       "  </thead>\n",
       "  <tbody>\n",
       "    <tr>\n",
       "      <th>0</th>\n",
       "      <td>0</td>\n",
       "      <td>0</td>\n",
       "      <td>1</td>\n",
       "      <td>0</td>\n",
       "      <td>0</td>\n",
       "      <td>1</td>\n",
       "      <td>0</td>\n",
       "      <td>0</td>\n",
       "      <td>0</td>\n",
       "      <td>0</td>\n",
       "      <td>...</td>\n",
       "      <td>0</td>\n",
       "      <td>2</td>\n",
       "      <td>0</td>\n",
       "      <td>0</td>\n",
       "      <td>0.5</td>\n",
       "      <td>0</td>\n",
       "      <td>0</td>\n",
       "      <td>1</td>\n",
       "      <td>0</td>\n",
       "      <td>0</td>\n",
       "    </tr>\n",
       "    <tr>\n",
       "      <th>1</th>\n",
       "      <td>1</td>\n",
       "      <td>0</td>\n",
       "      <td>0</td>\n",
       "      <td>0</td>\n",
       "      <td>0</td>\n",
       "      <td>0</td>\n",
       "      <td>1</td>\n",
       "      <td>0</td>\n",
       "      <td>0</td>\n",
       "      <td>0</td>\n",
       "      <td>...</td>\n",
       "      <td>0</td>\n",
       "      <td>2</td>\n",
       "      <td>0</td>\n",
       "      <td>1</td>\n",
       "      <td>0.5</td>\n",
       "      <td>0</td>\n",
       "      <td>1</td>\n",
       "      <td>0</td>\n",
       "      <td>0</td>\n",
       "      <td>0</td>\n",
       "    </tr>\n",
       "    <tr>\n",
       "      <th>2</th>\n",
       "      <td>0</td>\n",
       "      <td>0</td>\n",
       "      <td>1</td>\n",
       "      <td>0</td>\n",
       "      <td>1</td>\n",
       "      <td>0</td>\n",
       "      <td>0</td>\n",
       "      <td>0</td>\n",
       "      <td>0</td>\n",
       "      <td>0</td>\n",
       "      <td>...</td>\n",
       "      <td>0</td>\n",
       "      <td>1</td>\n",
       "      <td>1</td>\n",
       "      <td>0</td>\n",
       "      <td>0.5</td>\n",
       "      <td>0</td>\n",
       "      <td>0</td>\n",
       "      <td>1</td>\n",
       "      <td>0</td>\n",
       "      <td>0</td>\n",
       "    </tr>\n",
       "    <tr>\n",
       "      <th>3</th>\n",
       "      <td>0</td>\n",
       "      <td>0</td>\n",
       "      <td>1</td>\n",
       "      <td>0</td>\n",
       "      <td>0</td>\n",
       "      <td>0</td>\n",
       "      <td>1</td>\n",
       "      <td>0</td>\n",
       "      <td>0</td>\n",
       "      <td>0</td>\n",
       "      <td>...</td>\n",
       "      <td>0</td>\n",
       "      <td>2</td>\n",
       "      <td>0</td>\n",
       "      <td>1</td>\n",
       "      <td>0.0</td>\n",
       "      <td>0</td>\n",
       "      <td>1</td>\n",
       "      <td>0</td>\n",
       "      <td>0</td>\n",
       "      <td>0</td>\n",
       "    </tr>\n",
       "    <tr>\n",
       "      <th>4</th>\n",
       "      <td>0</td>\n",
       "      <td>0</td>\n",
       "      <td>1</td>\n",
       "      <td>0</td>\n",
       "      <td>0</td>\n",
       "      <td>1</td>\n",
       "      <td>0</td>\n",
       "      <td>0</td>\n",
       "      <td>0</td>\n",
       "      <td>0</td>\n",
       "      <td>...</td>\n",
       "      <td>0</td>\n",
       "      <td>1</td>\n",
       "      <td>1</td>\n",
       "      <td>0</td>\n",
       "      <td>0.5</td>\n",
       "      <td>0</td>\n",
       "      <td>1</td>\n",
       "      <td>0</td>\n",
       "      <td>0</td>\n",
       "      <td>0</td>\n",
       "    </tr>\n",
       "    <tr>\n",
       "      <th>...</th>\n",
       "      <td>...</td>\n",
       "      <td>...</td>\n",
       "      <td>...</td>\n",
       "      <td>...</td>\n",
       "      <td>...</td>\n",
       "      <td>...</td>\n",
       "      <td>...</td>\n",
       "      <td>...</td>\n",
       "      <td>...</td>\n",
       "      <td>...</td>\n",
       "      <td>...</td>\n",
       "      <td>...</td>\n",
       "      <td>...</td>\n",
       "      <td>...</td>\n",
       "      <td>...</td>\n",
       "      <td>...</td>\n",
       "      <td>...</td>\n",
       "      <td>...</td>\n",
       "      <td>...</td>\n",
       "      <td>...</td>\n",
       "      <td>...</td>\n",
       "    </tr>\n",
       "    <tr>\n",
       "      <th>1304</th>\n",
       "      <td>0</td>\n",
       "      <td>0</td>\n",
       "      <td>1</td>\n",
       "      <td>0</td>\n",
       "      <td>0</td>\n",
       "      <td>1</td>\n",
       "      <td>0</td>\n",
       "      <td>0</td>\n",
       "      <td>0</td>\n",
       "      <td>0</td>\n",
       "      <td>...</td>\n",
       "      <td>0</td>\n",
       "      <td>1</td>\n",
       "      <td>1</td>\n",
       "      <td>0</td>\n",
       "      <td>0.5</td>\n",
       "      <td>0</td>\n",
       "      <td>1</td>\n",
       "      <td>0</td>\n",
       "      <td>0</td>\n",
       "      <td>0</td>\n",
       "    </tr>\n",
       "    <tr>\n",
       "      <th>1305</th>\n",
       "      <td>1</td>\n",
       "      <td>0</td>\n",
       "      <td>0</td>\n",
       "      <td>0</td>\n",
       "      <td>0</td>\n",
       "      <td>0</td>\n",
       "      <td>1</td>\n",
       "      <td>0</td>\n",
       "      <td>0</td>\n",
       "      <td>0</td>\n",
       "      <td>...</td>\n",
       "      <td>0</td>\n",
       "      <td>1</td>\n",
       "      <td>1</td>\n",
       "      <td>1</td>\n",
       "      <td>1.0</td>\n",
       "      <td>0</td>\n",
       "      <td>0</td>\n",
       "      <td>0</td>\n",
       "      <td>1</td>\n",
       "      <td>0</td>\n",
       "    </tr>\n",
       "    <tr>\n",
       "      <th>1306</th>\n",
       "      <td>0</td>\n",
       "      <td>0</td>\n",
       "      <td>1</td>\n",
       "      <td>0</td>\n",
       "      <td>0</td>\n",
       "      <td>1</td>\n",
       "      <td>0</td>\n",
       "      <td>0</td>\n",
       "      <td>0</td>\n",
       "      <td>0</td>\n",
       "      <td>...</td>\n",
       "      <td>0</td>\n",
       "      <td>1</td>\n",
       "      <td>1</td>\n",
       "      <td>0</td>\n",
       "      <td>0.5</td>\n",
       "      <td>0</td>\n",
       "      <td>0</td>\n",
       "      <td>0</td>\n",
       "      <td>1</td>\n",
       "      <td>0</td>\n",
       "    </tr>\n",
       "    <tr>\n",
       "      <th>1307</th>\n",
       "      <td>0</td>\n",
       "      <td>0</td>\n",
       "      <td>1</td>\n",
       "      <td>0</td>\n",
       "      <td>0</td>\n",
       "      <td>1</td>\n",
       "      <td>0</td>\n",
       "      <td>0</td>\n",
       "      <td>0</td>\n",
       "      <td>0</td>\n",
       "      <td>...</td>\n",
       "      <td>0</td>\n",
       "      <td>1</td>\n",
       "      <td>1</td>\n",
       "      <td>0</td>\n",
       "      <td>0.5</td>\n",
       "      <td>0</td>\n",
       "      <td>1</td>\n",
       "      <td>0</td>\n",
       "      <td>0</td>\n",
       "      <td>0</td>\n",
       "    </tr>\n",
       "    <tr>\n",
       "      <th>1308</th>\n",
       "      <td>1</td>\n",
       "      <td>0</td>\n",
       "      <td>0</td>\n",
       "      <td>1</td>\n",
       "      <td>0</td>\n",
       "      <td>0</td>\n",
       "      <td>0</td>\n",
       "      <td>0</td>\n",
       "      <td>1</td>\n",
       "      <td>0</td>\n",
       "      <td>...</td>\n",
       "      <td>1</td>\n",
       "      <td>3</td>\n",
       "      <td>0</td>\n",
       "      <td>0</td>\n",
       "      <td>1.0</td>\n",
       "      <td>0</td>\n",
       "      <td>0</td>\n",
       "      <td>0</td>\n",
       "      <td>0</td>\n",
       "      <td>1</td>\n",
       "    </tr>\n",
       "  </tbody>\n",
       "</table>\n",
       "<p>1309 rows × 27 columns</p>\n",
       "</div>"
      ],
      "text/plain": [
       "      Embarked_C  Embarked_Q  Embarked_S  title_Master  title_Miss  title_Mr  \\\n",
       "0              0           0           1             0           0         1   \n",
       "1              1           0           0             0           0         0   \n",
       "2              0           0           1             0           1         0   \n",
       "3              0           0           1             0           0         0   \n",
       "4              0           0           1             0           0         1   \n",
       "...          ...         ...         ...           ...         ...       ...   \n",
       "1304           0           0           1             0           0         1   \n",
       "1305           1           0           0             0           0         0   \n",
       "1306           0           0           1             0           0         1   \n",
       "1307           0           0           1             0           0         1   \n",
       "1308           1           0           0             1           0         0   \n",
       "\n",
       "      title_Mrs  title_Other  fare_grp_1  fare_grp_2  ...  Parch  family  \\\n",
       "0             0            0           0           0  ...      0       2   \n",
       "1             1            0           0           0  ...      0       2   \n",
       "2             0            0           0           0  ...      0       1   \n",
       "3             1            0           0           0  ...      0       2   \n",
       "4             0            0           0           0  ...      0       1   \n",
       "...         ...          ...         ...         ...  ...    ...     ...   \n",
       "1304          0            0           0           0  ...      0       1   \n",
       "1305          1            0           0           0  ...      0       1   \n",
       "1306          0            0           0           0  ...      0       1   \n",
       "1307          0            0           0           0  ...      0       1   \n",
       "1308          0            0           1           0  ...      1       3   \n",
       "\n",
       "      singlef  CabinBool  Family_Survival  age_grp_1  age_grp_2  age_grp_3  \\\n",
       "0           0          0              0.5          0          0          1   \n",
       "1           0          1              0.5          0          1          0   \n",
       "2           1          0              0.5          0          0          1   \n",
       "3           0          1              0.0          0          1          0   \n",
       "4           1          0              0.5          0          1          0   \n",
       "...       ...        ...              ...        ...        ...        ...   \n",
       "1304        1          0              0.5          0          1          0   \n",
       "1305        1          1              1.0          0          0          0   \n",
       "1306        1          0              0.5          0          0          0   \n",
       "1307        1          0              0.5          0          1          0   \n",
       "1308        0          0              1.0          0          0          0   \n",
       "\n",
       "      age_grp_4  age_grp_5  \n",
       "0             0          0  \n",
       "1             0          0  \n",
       "2             0          0  \n",
       "3             0          0  \n",
       "4             0          0  \n",
       "...         ...        ...  \n",
       "1304          0          0  \n",
       "1305          1          0  \n",
       "1306          1          0  \n",
       "1307          0          0  \n",
       "1308          0          1  \n",
       "\n",
       "[1309 rows x 27 columns]"
      ]
     },
     "execution_count": 72,
     "metadata": {},
     "output_type": "execute_result"
    }
   ],
   "source": [
    "combined"
   ]
  },
  {
   "cell_type": "markdown",
   "id": "f509abac",
   "metadata": {},
   "source": [
    "## Hyperparamater Tunning"
   ]
  },
  {
   "cell_type": "code",
   "execution_count": 73,
   "id": "07d2dc9b",
   "metadata": {},
   "outputs": [
    {
     "data": {
      "text/plain": [
       "'\\ndef objective(trial):\\n    rf_param_space = {\\n     \\'n_estimators\\' : trial.suggest_int(\\'n_estimators\\', 1000, 3000),\\n    \\'criterion\\' : trial.suggest_categorical(\\'criterion\\', [\\'gini\\', \\'entropy\\']),\\n    \\'max_depth\\' : trial.suggest_int(\\'max_depth\\', 5, 15),\\n    \\'min_samples_split\\' : trial.suggest_int(\\'min_samples_split\\', 2, 10),\\n    \\'min_samples_leaf\\' : trial.suggest_int(\\'min_samples_leaf\\', 1, 10),\\n    \\'max_features\\' : trial.suggest_categorical(\\'max_features\\', [\\'auto\\', \\'sqrt\\']),\\n    \\'oob_score\\': trial.suggest_categorical(\\'oob_score\\', [True, False]),\\n    \\'random_state\\': 42,\\n    \\'n_jobs\\': -1,\\n    \\'verbose\\': 0\\n}  \\n    model = RandomForestClassifier(**rf_param_space)\\n    kfold = StratifiedKFold(10, shuffle=True, random_state=42)\\n    cv_scores = cross_val_score(model, x_train, y, cv=kfold)\\n    accuracy = cv_scores.mean()\\n\\n    return accuracy\\n\\nstudy = optuna.create_study(direction=\"maximize\")  \\nstudy.optimize(objective, n_trials=200)\\n\\nbest_params = study.best_params\\nbest_accuracy = study.best_value\\n\\nprint(\"Best Hyperparameters:\", best_params)\\nprint(\"Best Accuracy:\", best_accuracy)\\n    '"
      ]
     },
     "execution_count": 73,
     "metadata": {},
     "output_type": "execute_result"
    }
   ],
   "source": [
    "\"\"\"\n",
    "def objective(trial):\n",
    "    rf_param_space = {\n",
    "     'n_estimators' : trial.suggest_int('n_estimators', 1000, 3000),\n",
    "    'criterion' : trial.suggest_categorical('criterion', ['gini', 'entropy']),\n",
    "    'max_depth' : trial.suggest_int('max_depth', 5, 15),\n",
    "    'min_samples_split' : trial.suggest_int('min_samples_split', 2, 10),\n",
    "    'min_samples_leaf' : trial.suggest_int('min_samples_leaf', 1, 10),\n",
    "    'max_features' : trial.suggest_categorical('max_features', ['auto', 'sqrt']),\n",
    "    'oob_score': trial.suggest_categorical('oob_score', [True, False]),\n",
    "    'random_state': 42,\n",
    "    'n_jobs': -1,\n",
    "    'verbose': 0\n",
    "}  \n",
    "    model = RandomForestClassifier(**rf_param_space)\n",
    "    kfold = StratifiedKFold(10, shuffle=True, random_state=42)\n",
    "    cv_scores = cross_val_score(model, x_train, y, cv=kfold)\n",
    "    accuracy = cv_scores.mean()\n",
    "\n",
    "    return accuracy\n",
    "\n",
    "study = optuna.create_study(direction=\"maximize\")  \n",
    "study.optimize(objective, n_trials=200)\n",
    "\n",
    "best_params = study.best_params\n",
    "best_accuracy = study.best_value\n",
    "\n",
    "print(\"Best Hyperparameters:\", best_params)\n",
    "print(\"Best Accuracy:\", best_accuracy)\n",
    "    \"\"\""
   ]
  },
  {
   "cell_type": "code",
   "execution_count": 74,
   "id": "7201dc32",
   "metadata": {},
   "outputs": [
    {
     "data": {
      "text/plain": [
       "'\\ndef objective(trial):\\n    xgb_params = {\\n        \\'n_estimators\\': trial.suggest_categorical(\\'n_estimators\\', [20, 50, 100, 250, 500, 1000,2000,3000]),\\n      \\'colsample_bytree\\': trial.suggest_float(\\'colsample_bytree\\', 0.1, 1.0),\\n       \\'max_depth\\': trial.suggest_int(\\'max_depth\\', 2, 25),\\n       \\'reg_lambda\\': trial.suggest_float(\\'reg_lambda\\', 0, 1.0),\\n       \\'subsample\\': trial.suggest_float(\\'subsample\\', 0.1, 1.0),\\n       \\'learning_rate\\': trial.suggest_float(\\'learning_rate\\', 0.001, 1.0),\\n        \\'gamma\\': trial.suggest_categorical(\\'gamma\\', [0, 0.001, 0.01, 0.1, 1, 10, 100]),\\n       \\'min_child_weight\\': trial.suggest_categorical(\\'min_child_weight\\', [0.01, 0.1, 1, 10, 100]),\\n        \\'random_state\\': 42,\\n        \\'n_jobs\\': -1\\n        \\n         \\n        \\n        \\n    }\\n\\n    model =  XGBClassifier(**xgb_params)\\n    kfold = StratifiedKFold(n_splits=10)\\n    cv_scores = cross_val_score(model, x_train, y, cv=kfold)\\n    accuracy = cv_scores.mean()\\n\\n    return accuracy\\n\\nstudy = optuna.create_study(direction=\"maximize\")  \\nstudy.optimize(objective, n_trials=250)\\n\\nbest_params = study.best_params\\nbest_accuracy = study.best_value\\n\\nprint(\"Best Hyperparameters:\", best_params)\\nprint(\"Best Accuracy:\", best_accuracy)\\n    '"
      ]
     },
     "execution_count": 74,
     "metadata": {},
     "output_type": "execute_result"
    }
   ],
   "source": [
    "\"\"\"\n",
    "def objective(trial):\n",
    "    xgb_params = {\n",
    "        'n_estimators': trial.suggest_categorical('n_estimators', [20, 50, 100, 250, 500, 1000,2000,3000]),\n",
    "      'colsample_bytree': trial.suggest_float('colsample_bytree', 0.1, 1.0),\n",
    "       'max_depth': trial.suggest_int('max_depth', 2, 25),\n",
    "       'reg_lambda': trial.suggest_float('reg_lambda', 0, 1.0),\n",
    "       'subsample': trial.suggest_float('subsample', 0.1, 1.0),\n",
    "       'learning_rate': trial.suggest_float('learning_rate', 0.001, 1.0),\n",
    "        'gamma': trial.suggest_categorical('gamma', [0, 0.001, 0.01, 0.1, 1, 10, 100]),\n",
    "       'min_child_weight': trial.suggest_categorical('min_child_weight', [0.01, 0.1, 1, 10, 100]),\n",
    "        'random_state': 42,\n",
    "        'n_jobs': -1\n",
    "        \n",
    "         \n",
    "        \n",
    "        \n",
    "    }\n",
    "\n",
    "    model =  XGBClassifier(**xgb_params)\n",
    "    kfold = StratifiedKFold(n_splits=10)\n",
    "    cv_scores = cross_val_score(model, x_train, y, cv=kfold)\n",
    "    accuracy = cv_scores.mean()\n",
    "\n",
    "    return accuracy\n",
    "\n",
    "study = optuna.create_study(direction=\"maximize\")  \n",
    "study.optimize(objective, n_trials=250)\n",
    "\n",
    "best_params = study.best_params\n",
    "best_accuracy = study.best_value\n",
    "\n",
    "print(\"Best Hyperparameters:\", best_params)\n",
    "print(\"Best Accuracy:\", best_accuracy)\n",
    "    \"\"\""
   ]
  },
  {
   "cell_type": "markdown",
   "id": "daad5d82",
   "metadata": {},
   "source": [
    "## Model Selection"
   ]
  },
  {
   "cell_type": "code",
   "execution_count": 80,
   "id": "63c09893",
   "metadata": {},
   "outputs": [],
   "source": [
    "cv = StratifiedKFold(10, shuffle=True, random_state=42)\n",
    "\n",
    "rf = RandomForestClassifier(criterion='gini',\n",
    "                            n_estimators=1750,\n",
    "                            max_depth=7,\n",
    "                            min_samples_split=6,\n",
    "                            min_samples_leaf=6,\n",
    "                            max_features='auto',\n",
    "                            oob_score=True,\n",
    "                            random_state=42,\n",
    "                            n_jobs=-1,\n",
    "                            verbose=0\n",
    "                           )\n",
    "\n",
    "\n",
    "\n",
    "lg = LGBMClassifier(max_bin=4,\n",
    "                        num_iterations=550,\n",
    "                        learning_rate=0.0114,\n",
    "                        max_depth=3,\n",
    "                        num_leaves=7,\n",
    "                        colsample_bytree=0.35,\n",
    "                        random_state=42,\n",
    "                        n_jobs=-1)\n",
    "\n",
    "xg = XGBClassifier(\n",
    "    n_estimators=2800,\n",
    "    min_child_weight=0.1,\n",
    "    learning_rate=0.002,\n",
    "     max_depth=2,\n",
    "    subsample=0.47,\n",
    "    colsample_bytree=0.35,\n",
    "    gamma=0.4,\n",
    "    reg_lambda=0.4,\n",
    "    random_state=42,\n",
    "    n_jobs=-1,\n",
    "    \n",
    "    \n",
    "    \n",
    ")\n",
    "\n",
    "sv = SVC(probability=True)\n",
    "\n",
    "logreg = LogisticRegression(n_jobs=-1, solver='newton-cg')\n",
    "\n",
    "gb = GradientBoostingClassifier(random_state=42)\n",
    "\n",
    "gnb = GaussianNB()\n",
    "\n",
    "mlp = MLPClassifier(random_state=42)"
   ]
  },
  {
   "cell_type": "code",
   "execution_count": 83,
   "id": "1bf65a3b",
   "metadata": {},
   "outputs": [
    {
     "data": {
      "text/html": [
       "<div>\n",
       "<style scoped>\n",
       "    .dataframe tbody tr th:only-of-type {\n",
       "        vertical-align: middle;\n",
       "    }\n",
       "\n",
       "    .dataframe tbody tr th {\n",
       "        vertical-align: top;\n",
       "    }\n",
       "\n",
       "    .dataframe thead th {\n",
       "        text-align: right;\n",
       "    }\n",
       "</style>\n",
       "<table border=\"1\" class=\"dataframe\">\n",
       "  <thead>\n",
       "    <tr style=\"text-align: right;\">\n",
       "      <th></th>\n",
       "      <th>Model</th>\n",
       "      <th>Train Score</th>\n",
       "      <th>Test Score</th>\n",
       "    </tr>\n",
       "  </thead>\n",
       "  <tbody>\n",
       "    <tr>\n",
       "      <th>0</th>\n",
       "      <td>RandomForestClassifier</td>\n",
       "      <td>0.857837</td>\n",
       "      <td>0.843983</td>\n",
       "    </tr>\n",
       "    <tr>\n",
       "      <th>1</th>\n",
       "      <td>LGBMClassifier</td>\n",
       "      <td>0.862451</td>\n",
       "      <td>0.848452</td>\n",
       "    </tr>\n",
       "    <tr>\n",
       "      <th>2</th>\n",
       "      <td>XGBClassifier</td>\n",
       "      <td>0.859708</td>\n",
       "      <td>0.848464</td>\n",
       "    </tr>\n",
       "    <tr>\n",
       "      <th>3</th>\n",
       "      <td>SVC</td>\n",
       "      <td>0.836139</td>\n",
       "      <td>0.830499</td>\n",
       "    </tr>\n",
       "    <tr>\n",
       "      <th>4</th>\n",
       "      <td>LogisticRegression</td>\n",
       "      <td>0.853722</td>\n",
       "      <td>0.847316</td>\n",
       "    </tr>\n",
       "    <tr>\n",
       "      <th>5</th>\n",
       "      <td>GradientBoosting</td>\n",
       "      <td>0.883776</td>\n",
       "      <td>0.845094</td>\n",
       "    </tr>\n",
       "    <tr>\n",
       "      <th>6</th>\n",
       "      <td>GaussianNB</td>\n",
       "      <td>0.755834</td>\n",
       "      <td>0.755306</td>\n",
       "    </tr>\n",
       "    <tr>\n",
       "      <th>7</th>\n",
       "      <td>MLPClassifier</td>\n",
       "      <td>0.857712</td>\n",
       "      <td>0.832734</td>\n",
       "    </tr>\n",
       "  </tbody>\n",
       "</table>\n",
       "</div>"
      ],
      "text/plain": [
       "                    Model  Train Score  Test Score\n",
       "0  RandomForestClassifier     0.857837    0.843983\n",
       "1          LGBMClassifier     0.862451    0.848452\n",
       "2           XGBClassifier     0.859708    0.848464\n",
       "3                     SVC     0.836139    0.830499\n",
       "4      LogisticRegression     0.853722    0.847316\n",
       "5        GradientBoosting     0.883776    0.845094\n",
       "6              GaussianNB     0.755834    0.755306\n",
       "7           MLPClassifier     0.857712    0.832734"
      ]
     },
     "execution_count": 83,
     "metadata": {},
     "output_type": "execute_result"
    }
   ],
   "source": [
    "model_list = [\n",
    "   rf, lg,xg,sv,logreg,gb,gnb,mlp\n",
    "]\n",
    "\n",
    "train_accuracies = []\n",
    "test_accuracies = []\n",
    "\n",
    "for model in model_list:\n",
    "    cv_results = cross_validate(model, x_train, y, cv=cv,  scoring='accuracy', return_train_score=True, n_jobs=-1)\n",
    "    \n",
    "    train_accuracy_mean = np.mean(cv_results['train_score'])\n",
    "    test_accuracy_mean = np.mean(cv_results['test_score'])\n",
    "    \n",
    "    train_accuracies.append(train_accuracy_mean)\n",
    "    test_accuracies.append(test_accuracy_mean)\n",
    "\n",
    "cv_res = pd.DataFrame({\"Model\":[              \n",
    "\"RandomForestClassifier\", \"LGBMClassifier\", \"XGBClassifier\", \"SVC\", \n",
    "    \"LogisticRegression\", \"GradientBoosting\", \"GaussianNB\", \"MLPClassifier\"], \n",
    "                       \"Train Score\": train_accuracies, \"Test Score\": test_accuracies })\n",
    "\n",
    "cv_res"
   ]
  },
  {
   "cell_type": "code",
   "execution_count": 84,
   "id": "9510597d",
   "metadata": {},
   "outputs": [
    {
     "data": {
      "image/png": "[encoded data removed]",
      "text/plain": [
       "<Figure size 1008x576 with 1 Axes>"
      ]
     },
     "metadata": {
      "needs_background": "light"
     },
     "output_type": "display_data"
    }
   ],
   "source": [
    "fig, ax = plt.subplots(figsize=(14, 8))\n",
    "ax = sns.barplot(data=cv_res, y=\"Model\", x=\"Test Score\",  palette='plasma',\n",
    "                    orient='h',)\n",
    "\n",
    "ax.bar_label(ax.containers[0], label_type='edge', fontsize=10, padding=3,fmt='%.3f')\n",
    "plt.show()"
   ]
  },
  {
   "cell_type": "markdown",
   "id": "6fde7f7e",
   "metadata": {},
   "source": [
    "## Learning Curve"
   ]
  },
  {
   "cell_type": "code",
   "execution_count": 85,
   "id": "239b9f5a",
   "metadata": {},
   "outputs": [],
   "source": [
    "def learning_curve_plot(model,model_name, x_train, y):\n",
    "    training_sizes = np.linspace(0.1, 1.0, 10)\n",
    "    \n",
    "    train_sizes, train_scores, test_scores = \\\n",
    "    learning_curve(estimator=model, X=x_train, y=y, cv=5,\n",
    "                   n_jobs=-1, train_sizes=training_sizes, )\n",
    "    \n",
    "    train_scores_mean = np.mean(train_scores, axis=1)\n",
    "    train_scores_std = np.std(train_scores, axis=1)\n",
    "    test_scores_mean = np.mean(test_scores, axis=1)\n",
    "    test_scores_std = np.std(test_scores, axis=1)\n",
    "    \n",
    "    f, ax = plt.subplots( figsize=(10, 8))  # Adjust figsize to your preference\n",
    "    ax.fill_between(train_sizes, train_scores_mean - train_scores_std, train_scores_mean + train_scores_std, alpha=0.1, color='r')\n",
    "    ax.fill_between(train_sizes, test_scores_mean - test_scores_std, test_scores_mean + test_scores_std, alpha=0.1, color='g')\n",
    "    ax.plot(train_sizes, train_scores_mean, 'o-', color='r', label='Training score')\n",
    "    ax.plot(train_sizes, test_scores_mean, 'o-', color='g', label='Cross-validation score')\n",
    "    ax.set_xlabel('Number of Training Samples')\n",
    "    ax.set_ylabel('Accuracy')\n",
    "    ax.set_title(f'Learning Curve - {model_name}')\n",
    "    ax.legend(loc='best')\n",
    "    ax.grid()"
   ]
  },
  {
   "cell_type": "code",
   "execution_count": 88,
   "id": "8bbc3719",
   "metadata": {},
   "outputs": [
    {
     "data": {
      "image/png": "[encoded data removed]",
      "text/plain": [
       "<Figure size 720x576 with 1 Axes>"
      ]
     },
     "metadata": {
      "needs_background": "light"
     },
     "output_type": "display_data"
    },
    {
     "data": {
      "image/png": "[encoded data removed]",
      "text/plain": [
       "<Figure size 720x576 with 1 Axes>"
      ]
     },
     "metadata": {
      "needs_background": "light"
     },
     "output_type": "display_data"
    },
    {
     "data": {
      "image/png": "[encoded data removed]",
      "text/plain": [
       "<Figure size 720x576 with 1 Axes>"
      ]
     },
     "metadata": {
      "needs_background": "light"
     },
     "output_type": "display_data"
    },
    {
     "data": {
      "image/png": "[encoded data removed]",
      "text/plain": [
       "<Figure size 720x576 with 1 Axes>"
      ]
     },
     "metadata": {
      "needs_background": "light"
     },
     "output_type": "display_data"
    },
    {
     "data": {
      "image/png": "[encoded data removed]",
      "text/plain": [
       "<Figure size 720x576 with 1 Axes>"
      ]
     },
     "metadata": {
      "needs_background": "light"
     },
     "output_type": "display_data"
    },
    {
     "data": {
      "image/png": "[encoded data removed]",
      "text/plain": [
       "<Figure size 720x576 with 1 Axes>"
      ]
     },
     "metadata": {
      "needs_background": "light"
     },
     "output_type": "display_data"
    },
    {
     "data": {
      "image/png": "[encoded data removed]",
      "text/plain": [
       "<Figure size 720x576 with 1 Axes>"
      ]
     },
     "metadata": {
      "needs_background": "light"
     },
     "output_type": "display_data"
    },
    {
     "data": {
      "image/png": "[encoded data removed]",
      "text/plain": [
       "<Figure size 720x576 with 1 Axes>"
      ]
     },
     "metadata": {
      "needs_background": "light"
     },
     "output_type": "display_data"
    }
   ],
   "source": [
    "model_names = [\n",
    "    \"Random Forest\",\n",
    "    \"LGBM\",\n",
    "     \"XGBClassifier\",\n",
    "     \"Support Vector Machine\",\n",
    "     \"LogisticRegression\",\n",
    "     \"Gradient Boosting\",\n",
    "     \"Gaussian Naive Bayes\",\n",
    "     \"MLPClassifier\"\n",
    "]\n",
    "\n",
    "for model, model_name in zip(model_list, model_names):\n",
    "    learning_curve_plot(model, model_name, x_train, y)"
   ]
  },
  {
   "cell_type": "markdown",
   "id": "c4f92605",
   "metadata": {},
   "source": [
    "## Ensembling"
   ]
  },
  {
   "cell_type": "markdown",
   "id": "70b03f59",
   "metadata": {},
   "source": [
    "After some trial and error of conflating which model should I use in this ensemble method, I finally settled on XGBoost and RandomForest, because the combination of the two models can achieve a higher score"
   ]
  },
  {
   "cell_type": "code",
   "execution_count": 89,
   "id": "e795fb86",
   "metadata": {},
   "outputs": [],
   "source": [
    "from sklearn.ensemble import VotingClassifier"
   ]
  },
  {
   "cell_type": "code",
   "execution_count": 90,
   "id": "b6607f77",
   "metadata": {},
   "outputs": [
    {
     "name": "stdout",
     "output_type": "stream",
     "text": [
      "5 fold cross validation accuracies [0.8547486  0.8258427  0.83146067 0.85955056 0.87078652]\n",
      "mean cross validation accuracies 0.8484778105580316\n"
     ]
    }
   ],
   "source": [
    "classifier = VotingClassifier(estimators=[('XGB', xg), ('RandomForest', rf)],  voting='soft')\n",
    "\n",
    "\"\"\"model evaluation\"\"\"\n",
    "cv = StratifiedKFold(5, shuffle=True, random_state=42)\n",
    "accuracies = cross_val_score(classifier, x_train , y , cv = cv)\n",
    "print(\"5 fold cross validation accuracies {}\".format(accuracies))\n",
    "print(f\"mean cross validation accuracies {accuracies.mean()}\")"
   ]
  },
  {
   "cell_type": "markdown",
   "id": "577d8813",
   "metadata": {},
   "source": [
    "# Submission"
   ]
  },
  {
   "cell_type": "markdown",
   "id": "20824832",
   "metadata": {},
   "source": [
    "\n",
    "I ended up submitting predictions using the random forest model because it had a pretty high score than both the ensemble and the xgb"
   ]
  },
  {
   "cell_type": "code",
   "execution_count": 91,
   "id": "896ab85d",
   "metadata": {},
   "outputs": [
    {
     "name": "stdout",
     "output_type": "stream",
     "text": [
      "0.8439825218476903\n"
     ]
    }
   ],
   "source": [
    "rand_model_full_data = rf.fit(x_train, y)\n",
    "cv = StratifiedKFold(10, shuffle=True, random_state=42)\n",
    "cv_score = cross_val_score(rand_model_full_data, x_train , y , cv = cv)\n",
    "print(cv_score.mean())"
   ]
  },
  {
   "cell_type": "code",
   "execution_count": 92,
   "id": "23dc1909",
   "metadata": {},
   "outputs": [
    {
     "name": "stdout",
     "output_type": "stream",
     "text": [
      "0.8507250015692674\n"
     ]
    }
   ],
   "source": [
    "xgb = xg.fit(x_train, y)\n",
    "cv = StratifiedKFold(5, shuffle=True, random_state=42)\n",
    "cv_score = cross_val_score(xgb, x_train , y , cv = cv)\n",
    "print(cv_score.mean())"
   ]
  },
  {
   "cell_type": "code",
   "execution_count": null,
   "id": "c50673d0",
   "metadata": {},
   "outputs": [],
   "source": [
    "#classifier.fit(x_train, y)\n",
    "#ensemble = classifier.predict(x_test)"
   ]
  },
  {
   "cell_type": "code",
   "execution_count": null,
   "id": "79824406",
   "metadata": {},
   "outputs": [],
   "source": [
    "#xg_predict = xg.predict(x_test)"
   ]
  },
  {
   "cell_type": "code",
   "execution_count": 93,
   "id": "80826e23",
   "metadata": {},
   "outputs": [],
   "source": [
    "rf_predict = rf.predict(x_test)"
   ]
  },
  {
   "cell_type": "code",
   "execution_count": 95,
   "id": "1a0343fc",
   "metadata": {},
   "outputs": [],
   "source": [
    "output = pd.DataFrame({ 'PassengerId' : test_id, 'Survived': rf_predict })\n",
    "output.to_csv('mysubmission.csv', index=False)"
   ]
  }
 ],
 "metadata": {
  "kernelspec": {
   "display_name": "Python 3 (ipykernel)",
   "language": "python",
   "name": "python3"
  },
  "language_info": {
   "codemirror_mode": {
    "name": "ipython",
    "version": 3
   },
   "file_extension": ".py",
   "mimetype": "text/x-python",
   "name": "python",
   "nbconvert_exporter": "python",
   "pygments_lexer": "ipython3",
   "version": "3.9.12"
  }
 },
 "nbformat": 4,
 "nbformat_minor": 5
}
